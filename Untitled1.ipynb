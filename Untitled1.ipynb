{
 "cells": [
  {
   "cell_type": "code",
   "execution_count": 1,
   "metadata": {},
   "outputs": [],
   "source": [
    "from sklearn.model_selection import cross_val_predict\n",
    "from sklearn import metrics\n",
    "import matplotlib.pyplot as plt\n",
    "import pandas as pd\n",
    "import numpy as np\n",
    "from sklearn import svm\n",
    "from sklearn.pipeline import Pipeline\n",
    "from sklearn.preprocessing import StandardScaler\n",
    "from sklearn.preprocessing import MinMaxScaler\n",
    "from sklearn.model_selection import train_test_split\n",
    "import pickle\n",
    "import _pickle as cPickle\n",
    "import joblib"
   ]
  },
  {
   "cell_type": "code",
   "execution_count": 17,
   "metadata": {},
   "outputs": [
    {
     "data": {
      "text/plain": [
       "['model.pkl']"
      ]
     },
     "execution_count": 17,
     "metadata": {},
     "output_type": "execute_result"
    }
   ],
   "source": [
    "dataset = pd.read_csv('train.csv', sep=',')\n",
    "\n",
    "#Checando valores Missing\n",
    "dataset.isnull().sum()\n",
    "\n",
    "#Delete missing values\n",
    "dataset.dropna(inplace=True)\n",
    "\n",
    "def remove_features(lista_features):\n",
    "    for i in lista_features:\n",
    "        dataset.drop(i, axis=1, inplace=True)\n",
    "    return 0\n",
    "\n",
    "# Remove features\n",
    "remove_features(['index'])\n",
    "\n",
    "\n",
    "# Separa a classe dos dados\n",
    "classes = dataset['sex']\n",
    "dataset.drop('sex', axis=1, inplace=True)\n",
    "\n",
    "\n",
    "# Treinando o algoritmo de SVM.\n",
    "clf = svm.SVC().fit(dataset,classes)\n",
    "\n",
    "# Utiliza a função train_test_split para separar conjunto de treino e teste em 80/20\n",
    "\n",
    "X_train, X_test, y_train, y_test = train_test_split(dataset, classes, test_size=0.2, random_state=123)\n",
    "\n",
    "\n",
    "# Scala os dados de treino e teste.\n",
    "scaler = StandardScaler().fit(X_train)\n",
    "X_train = scaler.transform(X_train)\n",
    "\n",
    "scaler2 = StandardScaler().fit(X_test)\n",
    "X_test = scaler2.transform(X_test)\n",
    "\n",
    "# Treina o algoritmo\n",
    "clf.fit(X_train, y_train)\n",
    "\n",
    "\n",
    "# Resultados de predição.\n",
    "y_pred  = clf.predict(X_test)\n",
    "\n",
    "\n",
    "joblib.dump(clf, 'model.pkl')\n"
   ]
  },
  {
   "cell_type": "code",
   "execution_count": 18,
   "metadata": {},
   "outputs": [],
   "source": [
    "dataset_pre = pd.read_csv('predict.csv', sep=',')\n",
    "\n",
    "#Checando valores Missing\n",
    "dataset_pre.isnull().sum()\n",
    "\n",
    "#Delete missing values\n",
    "dataset_pre.dropna(inplace=True)\n",
    "\n",
    "def remove_features(lista_features):\n",
    "    for i in lista_features:\n",
    "        dataset_pre.drop(i, axis=1, inplace=True)\n",
    "    return 0\n",
    "\n",
    "# Remove features\n",
    "remove_features(['index'])\n",
    "\n",
    "model = joblib.load('model.pkl')\n",
    "\n",
    "\n",
    "df = pd.DataFrame({'sex':model.predict(dataset_pre)})\n",
    "\n",
    "df.to_csv('newsample_PREDICTIONS_MARCOSGRANADO_.csv', sep=',', index=False)"
   ]
  },
  {
   "cell_type": "code",
   "execution_count": 19,
   "metadata": {},
   "outputs": [
    {
     "data": {
      "text/html": [
       "<div>\n",
       "<style scoped>\n",
       "    .dataframe tbody tr th:only-of-type {\n",
       "        vertical-align: middle;\n",
       "    }\n",
       "\n",
       "    .dataframe tbody tr th {\n",
       "        vertical-align: top;\n",
       "    }\n",
       "\n",
       "    .dataframe thead th {\n",
       "        text-align: right;\n",
       "    }\n",
       "</style>\n",
       "<table border=\"1\" class=\"dataframe\">\n",
       "  <thead>\n",
       "    <tr style=\"text-align: right;\">\n",
       "      <th></th>\n",
       "      <th>sex</th>\n",
       "    </tr>\n",
       "  </thead>\n",
       "  <tbody>\n",
       "    <tr>\n",
       "      <th>0</th>\n",
       "      <td>F</td>\n",
       "    </tr>\n",
       "    <tr>\n",
       "      <th>1</th>\n",
       "      <td>F</td>\n",
       "    </tr>\n",
       "    <tr>\n",
       "      <th>2</th>\n",
       "      <td>F</td>\n",
       "    </tr>\n",
       "    <tr>\n",
       "      <th>3</th>\n",
       "      <td>F</td>\n",
       "    </tr>\n",
       "  </tbody>\n",
       "</table>\n",
       "</div>"
      ],
      "text/plain": [
       "  sex\n",
       "0   F\n",
       "1   F\n",
       "2   F\n",
       "3   F"
      ]
     },
     "execution_count": 19,
     "metadata": {},
     "output_type": "execute_result"
    }
   ],
   "source": [
    "df.head()\n"
   ]
  },
  {
   "cell_type": "code",
   "execution_count": null,
   "metadata": {},
   "outputs": [],
   "source": []
  }
 ],
 "metadata": {
  "kernelspec": {
   "display_name": "Python 3",
   "language": "python",
   "name": "python3"
  },
  "language_info": {
   "codemirror_mode": {
    "name": "ipython",
    "version": 3
   },
   "file_extension": ".py",
   "mimetype": "text/x-python",
   "name": "python",
   "nbconvert_exporter": "python",
   "pygments_lexer": "ipython3",
   "version": "3.8.5"
  }
 },
 "nbformat": 4,
 "nbformat_minor": 4
}
