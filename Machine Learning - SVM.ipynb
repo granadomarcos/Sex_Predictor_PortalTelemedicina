{
 "cells": [
  {
   "cell_type": "markdown",
   "metadata": {
    "colab_type": "text",
    "id": "x4wyPX7OMHQS"
   },
   "source": [
    "# Machine Learning - SVM"
   ]
  },
  {
   "cell_type": "markdown",
   "metadata": {
    "colab_type": "text",
    "id": "j05oIEZqMHQT"
   },
   "source": [
    "* SVM aplicado na classificação de flores e na classificação de músicas do Spotify.\n",
    "* O SVM será utilizado para criação de classificador que identifica possíveis músicas que um usuário poderia gostar.\n",
    "* Iremos treinar o algoritmo, validar o modelo e fazer tunning dos parâmetros do SVM."
   ]
  },
  {
   "cell_type": "markdown",
   "metadata": {
    "colab_type": "text",
    "id": "mn3VerzjMHQU"
   },
   "source": [
    "## Scripts e Base de dados"
   ]
  },
  {
   "cell_type": "markdown",
   "metadata": {
    "colab_type": "text",
    "id": "SZstNVZGMHQV"
   },
   "source": [
    "- A base de dados de **músicas do Spotify** bem como o **notebook com os scripts** dessa aula podem ser baixados em nosso Github, [aqui](https://github.com/minerandodados/mdrepo/blob/master/petr4_1_2010_11_2017.csv)\n",
    "- Base de dasos Iris, para conhecer clique [aqui](https://archive.ics.uci.edu/ml/datasets/iris)"
   ]
  },
  {
   "cell_type": "markdown",
   "metadata": {
    "colab_type": "text",
    "id": "n1nsAxdXMHQt"
   },
   "source": [
    "**Bibliotecas utilizadas**"
   ]
  },
  {
   "cell_type": "code",
   "execution_count": 1,
   "metadata": {
    "colab": {},
    "colab_type": "code",
    "id": "Zw-w0MyuMHQu"
   },
   "outputs": [],
   "source": [
    "from sklearn.model_selection import cross_val_predict\n",
    "from sklearn import metrics\n",
    "import matplotlib.pyplot as plt\n",
    "import pandas as pd\n",
    "import numpy as np\n",
    "from sklearn import svm"
   ]
  },
  {
   "cell_type": "markdown",
   "metadata": {
    "colab_type": "text",
    "collapsed": true,
    "id": "VjRRnQdGMHQ7"
   },
   "source": [
    "** Importando dataset Iris**"
   ]
  },
  {
   "cell_type": "code",
   "execution_count": 0,
   "metadata": {
    "colab": {},
    "colab_type": "code",
    "id": "6APdHTwIMHQ7"
   },
   "outputs": [],
   "source": [
    "from sklearn import datasets"
   ]
  },
  {
   "cell_type": "code",
   "execution_count": 0,
   "metadata": {
    "colab": {},
    "colab_type": "code",
    "id": "PTShGzdcMHRE"
   },
   "outputs": [],
   "source": [
    "# Carregando o dataset para o array chamado iris\n",
    "iris = datasets.load_iris()"
   ]
  },
  {
   "cell_type": "code",
   "execution_count": 0,
   "metadata": {
    "colab": {},
    "colab_type": "code",
    "id": "0GbSrbxbMHRI"
   },
   "outputs": [],
   "source": [
    "type(iris)"
   ]
  },
  {
   "cell_type": "code",
   "execution_count": 0,
   "metadata": {
    "colab": {},
    "colab_type": "code",
    "id": "-sQxkvGrMHRM"
   },
   "outputs": [],
   "source": [
    "# Visualizando o nome das features\n",
    "iris.feature_names"
   ]
  },
  {
   "cell_type": "code",
   "execution_count": 0,
   "metadata": {
    "colab": {},
    "colab_type": "code",
    "id": "2eWPQZ5fMHRR"
   },
   "outputs": [],
   "source": [
    "# Nome das Classes\n",
    "iris.target_names"
   ]
  },
  {
   "cell_type": "code",
   "execution_count": 0,
   "metadata": {
    "colab": {},
    "colab_type": "code",
    "id": "ejRuRsHcMHRU"
   },
   "outputs": [],
   "source": [
    "# Separando dados de treino.\n",
    "treino = iris.data"
   ]
  },
  {
   "cell_type": "code",
   "execution_count": 0,
   "metadata": {
    "colab": {},
    "colab_type": "code",
    "id": "Ka-2jJ67MHRf"
   },
   "outputs": [],
   "source": [
    "# Separando dados de classes.\n",
    "classes = iris.target"
   ]
  },
  {
   "cell_type": "code",
   "execution_count": 0,
   "metadata": {
    "colab": {},
    "colab_type": "code",
    "id": "u1WOvaeNMHRl"
   },
   "outputs": [],
   "source": [
    "# Visualizando a forma do array dos dados de treino.\n",
    "# Formato (linhas,colunas).\n",
    "treino.shape"
   ]
  },
  {
   "cell_type": "code",
   "execution_count": 0,
   "metadata": {
    "colab": {},
    "colab_type": "code",
    "id": "hZgotEmOMHRo"
   },
   "outputs": [],
   "source": [
    "# Visualizando os dados de treino.\n",
    "treino[:20]"
   ]
  },
  {
   "cell_type": "code",
   "execution_count": 0,
   "metadata": {
    "colab": {},
    "colab_type": "code",
    "id": "jpviGjkdMHRt"
   },
   "outputs": [],
   "source": [
    "# Visualizando a forma do array de classes.\n",
    "classes.shape"
   ]
  },
  {
   "cell_type": "code",
   "execution_count": 0,
   "metadata": {
    "colab": {},
    "colab_type": "code",
    "id": "e51tlSVDMHRx"
   },
   "outputs": [],
   "source": [
    "# Visualizando os dados únicos do array de classes.\n",
    "set(classes)"
   ]
  },
  {
   "cell_type": "code",
   "execution_count": 0,
   "metadata": {
    "colab": {},
    "colab_type": "code",
    "id": "ABSyxKmjMHR0"
   },
   "outputs": [],
   "source": [
    "# Visualizando os dados de classes.\n",
    "classes[:]"
   ]
  },
  {
   "cell_type": "markdown",
   "metadata": {
    "colab_type": "text",
    "id": "vcte5w24MHR3"
   },
   "source": [
    "# Visualização de dados"
   ]
  },
  {
   "cell_type": "markdown",
   "metadata": {
    "colab_type": "text",
    "id": "2ePlgZwtMHR3"
   },
   "source": [
    "* **Visualizando a disperssão de dados quanto a classe**"
   ]
  },
  {
   "cell_type": "code",
   "execution_count": 0,
   "metadata": {
    "colab": {},
    "colab_type": "code",
    "id": "TttCEsi1MHR5"
   },
   "outputs": [],
   "source": [
    "# Plota gráfico de disperssão dos dados com relação a classe.\n",
    "# Disperssão dos dados de Sepal width e Sepal Length com as classes(0,1,2)\n",
    "%matplotlib notebook\n",
    "from matplotlib import style\n",
    "style.use(\"ggplot\")\n",
    "#sepal length vs sepal width\n",
    "plt.xlabel('Sepal length')\n",
    "plt.ylabel('Sepal width')\n",
    "plt.title('Sepal width vs Sepal length')\n",
    "plt.scatter(treino[:,0],treino[:,1], c=classes)"
   ]
  },
  {
   "cell_type": "code",
   "execution_count": 0,
   "metadata": {
    "colab": {},
    "colab_type": "code",
    "id": "XtKYPiz_MHR9"
   },
   "outputs": [],
   "source": [
    "# Plota gráfico de disperssão dos dados com relação a classe.\n",
    "# Disperssão dos dados de Petal width e Petal Length com as classes(0,1,2)\n",
    "%matplotlib notebook\n",
    "from matplotlib import style\n",
    "style.use(\"ggplot\")\n",
    "plt.xlabel('Petal length')\n",
    "plt.ylabel('Petal width')\n",
    "plt.title('Petal Width vs Petal Length')\n",
    "plt.scatter(treino[:,2], treino[:,3], c=classes)"
   ]
  },
  {
   "cell_type": "markdown",
   "metadata": {
    "colab_type": "text",
    "id": "GJ4RpinwMHSA"
   },
   "source": [
    "# Aplicando o SVM"
   ]
  },
  {
   "cell_type": "markdown",
   "metadata": {
    "colab_type": "text",
    "id": "aK7BubkUMHSA"
   },
   "source": [
    "* Vamos agora aplicar o SVM para classificar flores usando a base de dados Iris."
   ]
  },
  {
   "cell_type": "code",
   "execution_count": 0,
   "metadata": {
    "colab": {},
    "colab_type": "code",
    "id": "gxdBkjuOMHSB"
   },
   "outputs": [],
   "source": [
    "# Usaremos 80% dos dados para treino e 20% para teste.\n",
    "# Visualizando o tamanho dos dados de treino.\n",
    "len(treino[:-30]), len(classes[:-30])"
   ]
  },
  {
   "cell_type": "code",
   "execution_count": 0,
   "metadata": {
    "colab": {},
    "colab_type": "code",
    "id": "khSqyAqVMHSL"
   },
   "outputs": [],
   "source": [
    "# Visualizando os dados de treino\n",
    "treino[:-30]"
   ]
  },
  {
   "cell_type": "code",
   "execution_count": 0,
   "metadata": {
    "colab": {},
    "colab_type": "code",
    "id": "PzbcLm1kMHSR"
   },
   "outputs": [],
   "source": [
    "# Visualiando as classes correspondentes\n",
    "classes[:-30]"
   ]
  },
  {
   "cell_type": "code",
   "execution_count": 0,
   "metadata": {
    "colab": {},
    "colab_type": "code",
    "id": "SwELwfLpMHST"
   },
   "outputs": [],
   "source": [
    "# Treinando o algoritmo de SVM.\n",
    "clf = svm.SVC().fit(treino[:-30],classes[:-30])"
   ]
  },
  {
   "cell_type": "code",
   "execution_count": 0,
   "metadata": {
    "colab": {},
    "colab_type": "code",
    "id": "ClZaoY0aMHSW"
   },
   "outputs": [],
   "source": [
    "# Objeto clf\n",
    "clf"
   ]
  },
  {
   "cell_type": "code",
   "execution_count": 0,
   "metadata": {
    "colab": {},
    "colab_type": "code",
    "id": "mvwkIZCQMHSZ"
   },
   "outputs": [],
   "source": [
    "# Cria um array com os dados de teste\n",
    "# 20% dos dados que não foram testados\n",
    "teste = treino[-30:]"
   ]
  },
  {
   "cell_type": "code",
   "execution_count": 0,
   "metadata": {
    "colab": {},
    "colab_type": "code",
    "id": "82bqlCnQMHSc"
   },
   "outputs": [],
   "source": [
    "# Visualizando os dados de teste\n",
    "teste"
   ]
  },
  {
   "cell_type": "code",
   "execution_count": 0,
   "metadata": {
    "colab": {},
    "colab_type": "code",
    "id": "DaDFD-ySMHSf"
   },
   "outputs": [],
   "source": [
    "# Predizendo valores com a porção de dados de teste\n",
    "clf.predict(teste)"
   ]
  },
  {
   "cell_type": "code",
   "execution_count": 0,
   "metadata": {
    "colab": {},
    "colab_type": "code",
    "id": "_Gwu1sE4MHSn"
   },
   "outputs": [],
   "source": [
    "# Cria um array com as classes dos dados de teste.\n",
    "classes_teste = classes[-30:]"
   ]
  },
  {
   "cell_type": "code",
   "execution_count": 0,
   "metadata": {
    "colab": {},
    "colab_type": "code",
    "id": "UnJ2JzaxMHSq"
   },
   "outputs": [],
   "source": [
    "# Visualizando as classes de teste\n",
    "classes_teste"
   ]
  },
  {
   "cell_type": "markdown",
   "metadata": {
    "colab_type": "text",
    "id": "RaonGtdsMHSu"
   },
   "source": [
    "## Visualizando os Resultados de Classificação"
   ]
  },
  {
   "cell_type": "code",
   "execution_count": 0,
   "metadata": {
    "colab": {},
    "colab_type": "code",
    "id": "Zj0P7ePkMHSv"
   },
   "outputs": [],
   "source": [
    "# Gráfico de disperssão entre as colunas Sepal Length , Sepatl width e a classe.\n",
    "# Os pontos roxos são pontos no qual o classificador errou.\n",
    "%matplotlib notebook\n",
    "from matplotlib import style\n",
    "style.use(\"ggplot\")\n",
    "plt.xlabel('Sepal length')\n",
    "plt.ylabel('Sepal width')\n",
    "plt.title('Sepal width vs Sepal length')\n",
    "plt.scatter(treino[-30:,0],treino[-30:,1], c=clf.predict(teste))"
   ]
  },
  {
   "cell_type": "code",
   "execution_count": 0,
   "metadata": {
    "colab": {},
    "colab_type": "code",
    "id": "-LTGJgHuMHSz"
   },
   "outputs": [],
   "source": [
    "# Gráfico de disperssão entre as colunas Petal Length , Petal width e a classe.\n",
    "# Os pontos roxos são pontos no qual o classificador errou.\n",
    "%matplotlib notebook\n",
    "from matplotlib import style\n",
    "style.use(\"ggplot\")\n",
    "plt.xlabel('Petal length')\n",
    "plt.ylabel('Petal width')\n",
    "plt.title('Petal Width vs Length')\n",
    "plt.scatter(treino[-30:,2], treino[-30:,3], c=clf.predict(teste))"
   ]
  },
  {
   "cell_type": "code",
   "execution_count": 0,
   "metadata": {
    "colab": {},
    "colab_type": "code",
    "id": "oxeMD-O2MHS4"
   },
   "outputs": [],
   "source": [
    "# Gráfico de instâncias e predição destas.\n",
    "%matplotlib notebook\n",
    "from matplotlib import style\n",
    "style.use(\"ggplot\")\n",
    "plt.xlabel('Amostras')\n",
    "plt.ylabel('Classes')\n",
    "plt.title('Classificacao do SVM')\n",
    "plt.scatter(range(len(classes_teste)),classes_teste,c=clf.predict(teste))"
   ]
  },
  {
   "cell_type": "markdown",
   "metadata": {
    "colab_type": "text",
    "id": "wBVbJ0BTMHS9"
   },
   "source": [
    "# Matriz de Confusão"
   ]
  },
  {
   "cell_type": "code",
   "execution_count": 0,
   "metadata": {
    "colab": {},
    "colab_type": "code",
    "id": "VJ7CBT9VMHS_"
   },
   "outputs": [],
   "source": [
    "print (pd.crosstab(classes_teste,clf.predict(teste),rownames=['Real'], colnames=['Predito'], margins=True),'')"
   ]
  },
  {
   "cell_type": "markdown",
   "metadata": {
    "colab_type": "text",
    "id": "MvytUIFBMHTF"
   },
   "source": [
    "# Cross Validation"
   ]
  },
  {
   "cell_type": "code",
   "execution_count": 0,
   "metadata": {
    "colab": {},
    "colab_type": "code",
    "id": "wFLFb9TIMHTG"
   },
   "outputs": [],
   "source": [
    "# Função que retorna a acurácia após fazer um validação cruzada (cross validation)\n",
    "def Acuracia(clf,X,y):\n",
    "    resultados = cross_val_predict(clf, X, y, cv=10)\n",
    "    return metrics.accuracy_score(y,resultados)"
   ]
  },
  {
   "cell_type": "code",
   "execution_count": 0,
   "metadata": {
    "colab": {},
    "colab_type": "code",
    "id": "ye_wi4FrMHTL"
   },
   "outputs": [],
   "source": [
    "Acuracia(clf,treino,classes)"
   ]
  },
  {
   "cell_type": "markdown",
   "metadata": {
    "colab_type": "text",
    "id": "5cvq00R3MHTO"
   },
   "source": [
    "# Métricas de Avaliação"
   ]
  },
  {
   "cell_type": "code",
   "execution_count": 0,
   "metadata": {
    "colab": {},
    "colab_type": "code",
    "id": "lROHEsi8MHTP"
   },
   "outputs": [],
   "source": [
    "# Imprime as métricas: 'precisão, revocação e Medida F1.\n",
    "resultados = cross_val_predict(clf,treino, classes, cv=10)\n",
    "valor_classes = [0,1,2]\n",
    "print (metrics.classification_report(classes,resultados,valor_classes))"
   ]
  },
  {
   "cell_type": "markdown",
   "metadata": {
    "colab_type": "text",
    "id": "UgZxOQJaMHTW"
   },
   "source": [
    "# Base de dados de músicas do Spotify"
   ]
  },
  {
   "cell_type": "code",
   "execution_count": 0,
   "metadata": {
    "colab": {},
    "colab_type": "code",
    "id": "y4CxotQtMHTX"
   },
   "outputs": [],
   "source": [
    "# Informações das Features da Base de dados.\n",
    "# https://developer.spotify.com/web-api/get-audio-features/"
   ]
  },
  {
   "cell_type": "code",
   "execution_count": 2,
   "metadata": {
    "colab": {},
    "colab_type": "code",
    "id": "j3vGUHHdMHTZ"
   },
   "outputs": [
    {
     "ename": "FileNotFoundError",
     "evalue": "[Errno 2] No such file or directory: 'data.csv'",
     "output_type": "error",
     "traceback": [
      "\u001b[1;31m---------------------------------------------------------------------------\u001b[0m",
      "\u001b[1;31mFileNotFoundError\u001b[0m                         Traceback (most recent call last)",
      "\u001b[1;32m<ipython-input-2-03c3ce78ef63>\u001b[0m in \u001b[0;36m<module>\u001b[1;34m\u001b[0m\n\u001b[1;32m----> 1\u001b[1;33m \u001b[0mdataset\u001b[0m \u001b[1;33m=\u001b[0m \u001b[0mpd\u001b[0m\u001b[1;33m.\u001b[0m\u001b[0mread_csv\u001b[0m\u001b[1;33m(\u001b[0m\u001b[1;34m'data.csv'\u001b[0m\u001b[1;33m,\u001b[0m \u001b[0msep\u001b[0m\u001b[1;33m=\u001b[0m\u001b[1;34m','\u001b[0m\u001b[1;33m)\u001b[0m\u001b[1;33m\u001b[0m\u001b[1;33m\u001b[0m\u001b[0m\n\u001b[0m",
      "\u001b[1;32m~\\anaconda3\\lib\\site-packages\\pandas\\io\\parsers.py\u001b[0m in \u001b[0;36mread_csv\u001b[1;34m(filepath_or_buffer, sep, delimiter, header, names, index_col, usecols, squeeze, prefix, mangle_dupe_cols, dtype, engine, converters, true_values, false_values, skipinitialspace, skiprows, skipfooter, nrows, na_values, keep_default_na, na_filter, verbose, skip_blank_lines, parse_dates, infer_datetime_format, keep_date_col, date_parser, dayfirst, cache_dates, iterator, chunksize, compression, thousands, decimal, lineterminator, quotechar, quoting, doublequote, escapechar, comment, encoding, dialect, error_bad_lines, warn_bad_lines, delim_whitespace, low_memory, memory_map, float_precision)\u001b[0m\n\u001b[0;32m    684\u001b[0m     )\n\u001b[0;32m    685\u001b[0m \u001b[1;33m\u001b[0m\u001b[0m\n\u001b[1;32m--> 686\u001b[1;33m     \u001b[1;32mreturn\u001b[0m \u001b[0m_read\u001b[0m\u001b[1;33m(\u001b[0m\u001b[0mfilepath_or_buffer\u001b[0m\u001b[1;33m,\u001b[0m \u001b[0mkwds\u001b[0m\u001b[1;33m)\u001b[0m\u001b[1;33m\u001b[0m\u001b[1;33m\u001b[0m\u001b[0m\n\u001b[0m\u001b[0;32m    687\u001b[0m \u001b[1;33m\u001b[0m\u001b[0m\n\u001b[0;32m    688\u001b[0m \u001b[1;33m\u001b[0m\u001b[0m\n",
      "\u001b[1;32m~\\anaconda3\\lib\\site-packages\\pandas\\io\\parsers.py\u001b[0m in \u001b[0;36m_read\u001b[1;34m(filepath_or_buffer, kwds)\u001b[0m\n\u001b[0;32m    450\u001b[0m \u001b[1;33m\u001b[0m\u001b[0m\n\u001b[0;32m    451\u001b[0m     \u001b[1;31m# Create the parser.\u001b[0m\u001b[1;33m\u001b[0m\u001b[1;33m\u001b[0m\u001b[1;33m\u001b[0m\u001b[0m\n\u001b[1;32m--> 452\u001b[1;33m     \u001b[0mparser\u001b[0m \u001b[1;33m=\u001b[0m \u001b[0mTextFileReader\u001b[0m\u001b[1;33m(\u001b[0m\u001b[0mfp_or_buf\u001b[0m\u001b[1;33m,\u001b[0m \u001b[1;33m**\u001b[0m\u001b[0mkwds\u001b[0m\u001b[1;33m)\u001b[0m\u001b[1;33m\u001b[0m\u001b[1;33m\u001b[0m\u001b[0m\n\u001b[0m\u001b[0;32m    453\u001b[0m \u001b[1;33m\u001b[0m\u001b[0m\n\u001b[0;32m    454\u001b[0m     \u001b[1;32mif\u001b[0m \u001b[0mchunksize\u001b[0m \u001b[1;32mor\u001b[0m \u001b[0miterator\u001b[0m\u001b[1;33m:\u001b[0m\u001b[1;33m\u001b[0m\u001b[1;33m\u001b[0m\u001b[0m\n",
      "\u001b[1;32m~\\anaconda3\\lib\\site-packages\\pandas\\io\\parsers.py\u001b[0m in \u001b[0;36m__init__\u001b[1;34m(self, f, engine, **kwds)\u001b[0m\n\u001b[0;32m    944\u001b[0m             \u001b[0mself\u001b[0m\u001b[1;33m.\u001b[0m\u001b[0moptions\u001b[0m\u001b[1;33m[\u001b[0m\u001b[1;34m\"has_index_names\"\u001b[0m\u001b[1;33m]\u001b[0m \u001b[1;33m=\u001b[0m \u001b[0mkwds\u001b[0m\u001b[1;33m[\u001b[0m\u001b[1;34m\"has_index_names\"\u001b[0m\u001b[1;33m]\u001b[0m\u001b[1;33m\u001b[0m\u001b[1;33m\u001b[0m\u001b[0m\n\u001b[0;32m    945\u001b[0m \u001b[1;33m\u001b[0m\u001b[0m\n\u001b[1;32m--> 946\u001b[1;33m         \u001b[0mself\u001b[0m\u001b[1;33m.\u001b[0m\u001b[0m_make_engine\u001b[0m\u001b[1;33m(\u001b[0m\u001b[0mself\u001b[0m\u001b[1;33m.\u001b[0m\u001b[0mengine\u001b[0m\u001b[1;33m)\u001b[0m\u001b[1;33m\u001b[0m\u001b[1;33m\u001b[0m\u001b[0m\n\u001b[0m\u001b[0;32m    947\u001b[0m \u001b[1;33m\u001b[0m\u001b[0m\n\u001b[0;32m    948\u001b[0m     \u001b[1;32mdef\u001b[0m \u001b[0mclose\u001b[0m\u001b[1;33m(\u001b[0m\u001b[0mself\u001b[0m\u001b[1;33m)\u001b[0m\u001b[1;33m:\u001b[0m\u001b[1;33m\u001b[0m\u001b[1;33m\u001b[0m\u001b[0m\n",
      "\u001b[1;32m~\\anaconda3\\lib\\site-packages\\pandas\\io\\parsers.py\u001b[0m in \u001b[0;36m_make_engine\u001b[1;34m(self, engine)\u001b[0m\n\u001b[0;32m   1176\u001b[0m     \u001b[1;32mdef\u001b[0m \u001b[0m_make_engine\u001b[0m\u001b[1;33m(\u001b[0m\u001b[0mself\u001b[0m\u001b[1;33m,\u001b[0m \u001b[0mengine\u001b[0m\u001b[1;33m=\u001b[0m\u001b[1;34m\"c\"\u001b[0m\u001b[1;33m)\u001b[0m\u001b[1;33m:\u001b[0m\u001b[1;33m\u001b[0m\u001b[1;33m\u001b[0m\u001b[0m\n\u001b[0;32m   1177\u001b[0m         \u001b[1;32mif\u001b[0m \u001b[0mengine\u001b[0m \u001b[1;33m==\u001b[0m \u001b[1;34m\"c\"\u001b[0m\u001b[1;33m:\u001b[0m\u001b[1;33m\u001b[0m\u001b[1;33m\u001b[0m\u001b[0m\n\u001b[1;32m-> 1178\u001b[1;33m             \u001b[0mself\u001b[0m\u001b[1;33m.\u001b[0m\u001b[0m_engine\u001b[0m \u001b[1;33m=\u001b[0m \u001b[0mCParserWrapper\u001b[0m\u001b[1;33m(\u001b[0m\u001b[0mself\u001b[0m\u001b[1;33m.\u001b[0m\u001b[0mf\u001b[0m\u001b[1;33m,\u001b[0m \u001b[1;33m**\u001b[0m\u001b[0mself\u001b[0m\u001b[1;33m.\u001b[0m\u001b[0moptions\u001b[0m\u001b[1;33m)\u001b[0m\u001b[1;33m\u001b[0m\u001b[1;33m\u001b[0m\u001b[0m\n\u001b[0m\u001b[0;32m   1179\u001b[0m         \u001b[1;32melse\u001b[0m\u001b[1;33m:\u001b[0m\u001b[1;33m\u001b[0m\u001b[1;33m\u001b[0m\u001b[0m\n\u001b[0;32m   1180\u001b[0m             \u001b[1;32mif\u001b[0m \u001b[0mengine\u001b[0m \u001b[1;33m==\u001b[0m \u001b[1;34m\"python\"\u001b[0m\u001b[1;33m:\u001b[0m\u001b[1;33m\u001b[0m\u001b[1;33m\u001b[0m\u001b[0m\n",
      "\u001b[1;32m~\\anaconda3\\lib\\site-packages\\pandas\\io\\parsers.py\u001b[0m in \u001b[0;36m__init__\u001b[1;34m(self, src, **kwds)\u001b[0m\n\u001b[0;32m   2006\u001b[0m         \u001b[0mkwds\u001b[0m\u001b[1;33m[\u001b[0m\u001b[1;34m\"usecols\"\u001b[0m\u001b[1;33m]\u001b[0m \u001b[1;33m=\u001b[0m \u001b[0mself\u001b[0m\u001b[1;33m.\u001b[0m\u001b[0musecols\u001b[0m\u001b[1;33m\u001b[0m\u001b[1;33m\u001b[0m\u001b[0m\n\u001b[0;32m   2007\u001b[0m \u001b[1;33m\u001b[0m\u001b[0m\n\u001b[1;32m-> 2008\u001b[1;33m         \u001b[0mself\u001b[0m\u001b[1;33m.\u001b[0m\u001b[0m_reader\u001b[0m \u001b[1;33m=\u001b[0m \u001b[0mparsers\u001b[0m\u001b[1;33m.\u001b[0m\u001b[0mTextReader\u001b[0m\u001b[1;33m(\u001b[0m\u001b[0msrc\u001b[0m\u001b[1;33m,\u001b[0m \u001b[1;33m**\u001b[0m\u001b[0mkwds\u001b[0m\u001b[1;33m)\u001b[0m\u001b[1;33m\u001b[0m\u001b[1;33m\u001b[0m\u001b[0m\n\u001b[0m\u001b[0;32m   2009\u001b[0m         \u001b[0mself\u001b[0m\u001b[1;33m.\u001b[0m\u001b[0munnamed_cols\u001b[0m \u001b[1;33m=\u001b[0m \u001b[0mself\u001b[0m\u001b[1;33m.\u001b[0m\u001b[0m_reader\u001b[0m\u001b[1;33m.\u001b[0m\u001b[0munnamed_cols\u001b[0m\u001b[1;33m\u001b[0m\u001b[1;33m\u001b[0m\u001b[0m\n\u001b[0;32m   2010\u001b[0m \u001b[1;33m\u001b[0m\u001b[0m\n",
      "\u001b[1;32mpandas\\_libs\\parsers.pyx\u001b[0m in \u001b[0;36mpandas._libs.parsers.TextReader.__cinit__\u001b[1;34m()\u001b[0m\n",
      "\u001b[1;32mpandas\\_libs\\parsers.pyx\u001b[0m in \u001b[0;36mpandas._libs.parsers.TextReader._setup_parser_source\u001b[1;34m()\u001b[0m\n",
      "\u001b[1;31mFileNotFoundError\u001b[0m: [Errno 2] No such file or directory: 'data.csv'"
     ]
    }
   ],
   "source": [
    "dataset = pd.read_csv('data.csv', sep=',')"
   ]
  },
  {
   "cell_type": "code",
   "execution_count": 0,
   "metadata": {
    "colab": {},
    "colab_type": "code",
    "id": "n7jM7TA-MHTc"
   },
   "outputs": [],
   "source": [
    "dataset.head()"
   ]
  },
  {
   "cell_type": "markdown",
   "metadata": {
    "colab_type": "text",
    "id": "L-YyINA9MHTf"
   },
   "source": [
    "# Análise de Dados"
   ]
  },
  {
   "cell_type": "code",
   "execution_count": 0,
   "metadata": {
    "colab": {},
    "colab_type": "code",
    "id": "-mdNT6TnMHTf"
   },
   "outputs": [],
   "source": [
    "#Checando valores Missing\n",
    "dataset.isnull().sum()"
   ]
  },
  {
   "cell_type": "code",
   "execution_count": 0,
   "metadata": {
    "colab": {},
    "colab_type": "code",
    "id": "WXuOXx3MMHTj",
    "scrolled": true
   },
   "outputs": [],
   "source": [
    "# Resumo Estatístico da base\n",
    "# Somente dados numéricos\n",
    "dataset.describe()"
   ]
  },
  {
   "cell_type": "code",
   "execution_count": 0,
   "metadata": {
    "colab": {},
    "colab_type": "code",
    "id": "670CM9lQMHTm"
   },
   "outputs": [],
   "source": [
    " # lista estilos disponíveis do Matplotlib\n",
    "plt.style.available"
   ]
  },
  {
   "cell_type": "code",
   "execution_count": 0,
   "metadata": {
    "colab": {},
    "colab_type": "code",
    "id": "GEbmwu7mMHTo"
   },
   "outputs": [],
   "source": [
    "%matplotlib notebook\n",
    "from matplotlib import style\n",
    "style.use(\"seaborn-colorblind\")\n",
    "dataset.plot(x='acousticness', y='danceability', c='target', kind='scatter', colormap='Accent_r')"
   ]
  },
  {
   "cell_type": "code",
   "execution_count": 0,
   "metadata": {
    "colab": {},
    "colab_type": "code",
    "id": "ifSPPkRPMHTs",
    "scrolled": false
   },
   "outputs": [],
   "source": [
    "%matplotlib notebook\n",
    "from matplotlib import style\n",
    "style.use(\"seaborn-colorblind\")\n",
    "dataset.plot(x='tempo', y='valence', c='target', kind='scatter' , colormap='Accent_r')"
   ]
  },
  {
   "cell_type": "code",
   "execution_count": 0,
   "metadata": {
    "colab": {},
    "colab_type": "code",
    "id": "aYh-h7EAMHTv"
   },
   "outputs": [],
   "source": [
    "%matplotlib notebook\n",
    "from matplotlib import style\n",
    "style.use(\"seaborn-colorblind\")\n",
    "dataset.plot(x='tempo', y='speechiness', c='target', kind='scatter' , colormap='Accent')"
   ]
  },
  {
   "cell_type": "code",
   "execution_count": 0,
   "metadata": {
    "colab": {},
    "colab_type": "code",
    "id": "9I0puAfhMHTy"
   },
   "outputs": [],
   "source": [
    "%matplotlib notebook\n",
    "from matplotlib import style\n",
    "style.use(\"seaborn-colorblind\")\n",
    "dataset.plot(x='danceability', y='energy', c='target', kind='scatter' , colormap='Reds')"
   ]
  },
  {
   "cell_type": "markdown",
   "metadata": {
    "colab_type": "text",
    "id": "ugSPHXxgMHT2"
   },
   "source": [
    "# Separa a classe dos dados"
   ]
  },
  {
   "cell_type": "code",
   "execution_count": 0,
   "metadata": {
    "colab": {},
    "colab_type": "code",
    "id": "ZSxYZC5aMHT2"
   },
   "outputs": [],
   "source": [
    "classes = dataset['target']\n",
    "dataset.drop('target', axis=1, inplace=True)"
   ]
  },
  {
   "cell_type": "code",
   "execution_count": 0,
   "metadata": {
    "colab": {},
    "colab_type": "code",
    "id": "49jU13hnMHT5"
   },
   "outputs": [],
   "source": [
    "dataset.head(15)"
   ]
  },
  {
   "cell_type": "markdown",
   "metadata": {
    "colab_type": "text",
    "id": "FcvPJ_2bMHT8"
   },
   "source": [
    "# Pre-processamento de dados"
   ]
  },
  {
   "cell_type": "code",
   "execution_count": 0,
   "metadata": {
    "colab": {},
    "colab_type": "code",
    "id": "WQE7XZV9MHT8"
   },
   "outputs": [],
   "source": [
    "def remove_features(lista_features):\n",
    "    for i in lista_features:\n",
    "        dataset.drop(i, axis=1, inplace=True)\n",
    "    return 0"
   ]
  },
  {
   "cell_type": "code",
   "execution_count": 0,
   "metadata": {
    "colab": {},
    "colab_type": "code",
    "id": "a2XcDC_JMHT-"
   },
   "outputs": [],
   "source": [
    "# Remove features\n",
    "remove_features(['id','song_title'])"
   ]
  },
  {
   "cell_type": "code",
   "execution_count": 0,
   "metadata": {
    "colab": {},
    "colab_type": "code",
    "id": "DpUECzsmMHUE"
   },
   "outputs": [],
   "source": [
    "# Visualizando o dataset\n",
    "dataset.artist.head(10)"
   ]
  },
  {
   "cell_type": "code",
   "execution_count": 0,
   "metadata": {
    "colab": {},
    "colab_type": "code",
    "id": "QADD_CntMHUG"
   },
   "outputs": [],
   "source": [
    "# Visualizando o dataset\n",
    "dataset.info()"
   ]
  },
  {
   "cell_type": "markdown",
   "metadata": {
    "colab_type": "text",
    "collapsed": true,
    "id": "3G3OPCOFMHUL"
   },
   "source": [
    "# Label Encoder"
   ]
  },
  {
   "cell_type": "markdown",
   "metadata": {
    "colab_type": "text",
    "id": "DsDkagwIMHUM"
   },
   "source": [
    "* Técnica para codificar valores categoricos em numéricos\n",
    "* Um exemplo seria: a lista de cores: _(‘branco’,’preto’,’amarelo’,’vermelho’,'branco')_\n",
    "* Após aplicar o LabelEncoder esta seria algo como __(1,2,3,4,1)__"
   ]
  },
  {
   "cell_type": "code",
   "execution_count": 0,
   "metadata": {
    "colab": {},
    "colab_type": "code",
    "id": "U4qWM0nrMHUN"
   },
   "outputs": [],
   "source": [
    "from sklearn.preprocessing import LabelEncoder"
   ]
  },
  {
   "cell_type": "code",
   "execution_count": 0,
   "metadata": {
    "colab": {},
    "colab_type": "code",
    "id": "ZIq3_C1FMHUQ"
   },
   "outputs": [],
   "source": [
    "enc = LabelEncoder()"
   ]
  },
  {
   "cell_type": "code",
   "execution_count": 0,
   "metadata": {
    "colab": {},
    "colab_type": "code",
    "id": "m_GW7DZVMHUX"
   },
   "outputs": [],
   "source": [
    "inteiros = enc.fit_transform(dataset['artist'])"
   ]
  },
  {
   "cell_type": "code",
   "execution_count": 0,
   "metadata": {
    "colab": {},
    "colab_type": "code",
    "id": "YG6e1Cv_MHUa"
   },
   "outputs": [],
   "source": [
    "# Visualizando valores únicos.\n",
    "set(inteiros)"
   ]
  },
  {
   "cell_type": "code",
   "execution_count": 0,
   "metadata": {
    "colab": {},
    "colab_type": "code",
    "id": "dGhXwqsyMHUe"
   },
   "outputs": [],
   "source": [
    "# Cria uma nova coluna chamada 'artist_inteiros'\n",
    "dataset['artist_inteiros'] = inteiros"
   ]
  },
  {
   "cell_type": "code",
   "execution_count": 0,
   "metadata": {
    "colab": {},
    "colab_type": "code",
    "id": "f46SSWiqMHUg"
   },
   "outputs": [],
   "source": [
    "dataset.head()"
   ]
  },
  {
   "cell_type": "code",
   "execution_count": 0,
   "metadata": {
    "colab": {},
    "colab_type": "code",
    "id": "H0x3g3xmMHUi"
   },
   "outputs": [],
   "source": [
    "remove_features(['artist'])"
   ]
  },
  {
   "cell_type": "code",
   "execution_count": 0,
   "metadata": {
    "colab": {},
    "colab_type": "code",
    "id": "NlsBD6ClMHUq"
   },
   "outputs": [],
   "source": [
    "# Visualizando o Dataset alterado.\n",
    "dataset.head(20)"
   ]
  },
  {
   "cell_type": "markdown",
   "metadata": {
    "colab_type": "text",
    "id": "Dx5Pk9p2MHUt"
   },
   "source": [
    "# One Hot Encoding"
   ]
  },
  {
   "cell_type": "markdown",
   "metadata": {
    "colab_type": "text",
    "id": "WsnLzja8MHUu"
   },
   "source": [
    "* Técnica usada para codificar valores categóricos em númericos.\n",
    "* Cria uma matriz de presença.\n",
    "* Resolve o problema __ordenação__ nos dados gerados pelo LabelEncoder."
   ]
  },
  {
   "cell_type": "code",
   "execution_count": 0,
   "metadata": {
    "colab": {},
    "colab_type": "code",
    "id": "jusNqIrvMHUv"
   },
   "outputs": [],
   "source": [
    "# Apaque a coluna 'Artist'\n",
    "remove_features(['artist'])\n"
   ]
  },
  {
   "cell_type": "code",
   "execution_count": 0,
   "metadata": {
    "colab": {},
    "colab_type": "code",
    "id": "wnPgpuw0MHUx"
   },
   "outputs": [],
   "source": [
    "# Importa o pacote OneHotEncoder\n",
    "from sklearn.preprocessing import OneHotEncoder"
   ]
  },
  {
   "cell_type": "code",
   "execution_count": 0,
   "metadata": {
    "colab": {},
    "colab_type": "code",
    "id": "MFR7K8wYMHU0"
   },
   "outputs": [],
   "source": [
    "# Instancia um objeto do tipo OnehotEncoder\n",
    "ohe = OneHotEncoder()"
   ]
  },
  {
   "cell_type": "code",
   "execution_count": 0,
   "metadata": {
    "colab": {},
    "colab_type": "code",
    "id": "glivTNZiMHU2"
   },
   "outputs": [],
   "source": [
    "dataset.values"
   ]
  },
  {
   "cell_type": "code",
   "execution_count": 0,
   "metadata": {
    "colab": {},
    "colab_type": "code",
    "id": "FQhaNl7RMHU4"
   },
   "outputs": [],
   "source": [
    "# Transforma em arrayn numpy o dataset.\n",
    "dataset_array = dataset.values"
   ]
  },
  {
   "cell_type": "code",
   "execution_count": 0,
   "metadata": {
    "colab": {},
    "colab_type": "code",
    "id": "WnmUTZFAMHU6"
   },
   "outputs": [],
   "source": [
    "# Pega o numero de linhas.\n",
    "num_rows = dataset_array.shape[0]"
   ]
  },
  {
   "cell_type": "code",
   "execution_count": 0,
   "metadata": {
    "colab": {},
    "colab_type": "code",
    "id": "XGKrItX2MHU7"
   },
   "outputs": [],
   "source": [
    "# Visualiza coluna de inteiros\n",
    "dataset_array[:][:,13]\n"
   ]
  },
  {
   "cell_type": "code",
   "execution_count": 0,
   "metadata": {
    "colab": {},
    "colab_type": "code",
    "id": "YMv38C36MHU9"
   },
   "outputs": [],
   "source": [
    "# Transforma a matriz em uma dimensão\n",
    "inteiros = inteiros.reshape(len(inteiros),1)"
   ]
  },
  {
   "cell_type": "code",
   "execution_count": 0,
   "metadata": {
    "colab": {},
    "colab_type": "code",
    "id": "PpEnRXujMHU-"
   },
   "outputs": [],
   "source": [
    "# Criar as novas features a partir da matriz de presença\n",
    "novas_features = ohe.fit_transform(inteiros)"
   ]
  },
  {
   "cell_type": "code",
   "execution_count": 0,
   "metadata": {
    "colab": {},
    "colab_type": "code",
    "id": "EzdeXyZLMHVA"
   },
   "outputs": [],
   "source": [
    "# Imprime as novas features\n",
    "novas_features"
   ]
  },
  {
   "cell_type": "code",
   "execution_count": 0,
   "metadata": {
    "colab": {},
    "colab_type": "code",
    "id": "Elc-ehRFMHVE"
   },
   "outputs": [],
   "source": [
    "# Concatena as novas features ao array\n",
    "dataset_array = np.concatenate([dataset_array, novas_features.toarray()], axis=1)"
   ]
  },
  {
   "cell_type": "code",
   "execution_count": 0,
   "metadata": {
    "colab": {},
    "colab_type": "code",
    "id": "6thK4Ff7MHVG"
   },
   "outputs": [],
   "source": [
    "# Visualizando a quantidade de linhas e colunas da base\n",
    "dataset_array.shape"
   ]
  },
  {
   "cell_type": "code",
   "execution_count": 0,
   "metadata": {
    "colab": {},
    "colab_type": "code",
    "id": "yFilDVtBMHVJ"
   },
   "outputs": [],
   "source": [
    "# Transforma em dataframe e visualiza as colunas\n",
    "dataf = pd.DataFrame(dataset_array)"
   ]
  },
  {
   "cell_type": "code",
   "execution_count": 0,
   "metadata": {
    "colab": {},
    "colab_type": "code",
    "id": "Z4TQzW0QMHVL"
   },
   "outputs": [],
   "source": [
    "dataf.head(100)"
   ]
  },
  {
   "cell_type": "markdown",
   "metadata": {
    "colab_type": "text",
    "id": "9E5N4OwnMHVO"
   },
   "source": [
    "# Pandas Get_dummies"
   ]
  },
  {
   "cell_type": "markdown",
   "metadata": {
    "colab_type": "text",
    "id": "9LKo2KzbMHVP"
   },
   "source": [
    "* Cria uma matriz de presença como feito com o OHE."
   ]
  },
  {
   "cell_type": "code",
   "execution_count": 0,
   "metadata": {
    "colab": {},
    "colab_type": "code",
    "id": "UhZFCbV2MHVP"
   },
   "outputs": [],
   "source": [
    "dataset.head()"
   ]
  },
  {
   "cell_type": "code",
   "execution_count": 0,
   "metadata": {
    "colab": {},
    "colab_type": "code",
    "id": "tyWWM7cgMHVR"
   },
   "outputs": [],
   "source": [
    "# Aplicando o get_dummies nos dados.\n",
    "dataset = pd.get_dummies(dataset, columns=['artist'], prefix=['artist'])"
   ]
  },
  {
   "cell_type": "code",
   "execution_count": 0,
   "metadata": {
    "colab": {},
    "colab_type": "code",
    "id": "iRleJFSaMHVT"
   },
   "outputs": [],
   "source": [
    "# Visualizando 'features' geradas.\n",
    "dataset.columns"
   ]
  },
  {
   "cell_type": "code",
   "execution_count": 0,
   "metadata": {
    "colab": {},
    "colab_type": "code",
    "id": "XliyULanMHVU"
   },
   "outputs": [],
   "source": [
    "len(dataset.columns)"
   ]
  },
  {
   "cell_type": "code",
   "execution_count": 0,
   "metadata": {
    "colab": {},
    "colab_type": "code",
    "id": "wDAqAql6MHVX"
   },
   "outputs": [],
   "source": [
    "# Visualizando as colunas\n",
    "dataset.dtypes"
   ]
  },
  {
   "cell_type": "code",
   "execution_count": 0,
   "metadata": {
    "colab": {},
    "colab_type": "code",
    "id": "-4HDC8JJMHVZ"
   },
   "outputs": [],
   "source": [
    "# checando missing values\n",
    "dataset.isnull().sum()"
   ]
  },
  {
   "cell_type": "code",
   "execution_count": 0,
   "metadata": {
    "colab": {},
    "colab_type": "code",
    "id": "XgQDViDpMHVc"
   },
   "outputs": [],
   "source": [
    "# coluna artist\n",
    "len(dataset.columns)"
   ]
  },
  {
   "cell_type": "markdown",
   "metadata": {
    "colab_type": "text",
    "id": "bJigVUBJMHVe"
   },
   "source": [
    "# Pipeline"
   ]
  },
  {
   "cell_type": "code",
   "execution_count": 0,
   "metadata": {
    "colab": {},
    "colab_type": "code",
    "id": "bWEXfB9lMHVf"
   },
   "outputs": [],
   "source": [
    "# Importe as bibliotecas de Pipelines e Pré-processadores\n",
    "from sklearn.pipeline import Pipeline\n",
    "from sklearn.preprocessing import StandardScaler\n",
    "from sklearn.preprocessing import MinMaxScaler"
   ]
  },
  {
   "cell_type": "code",
   "execution_count": 0,
   "metadata": {
    "colab": {},
    "colab_type": "code",
    "id": "S4QmFmWMMHVi"
   },
   "outputs": [],
   "source": [
    "# Treinando o algoritmo de SVM.\n",
    "clf = svm.SVC().fit(dataset,classes)"
   ]
  },
  {
   "cell_type": "code",
   "execution_count": 0,
   "metadata": {
    "colab": {},
    "colab_type": "code",
    "id": "AQ38WRNRMHVk"
   },
   "outputs": [],
   "source": [
    "clf"
   ]
  },
  {
   "cell_type": "code",
   "execution_count": 0,
   "metadata": {
    "colab": {},
    "colab_type": "code",
    "id": "aRKghkZJMHVm"
   },
   "outputs": [],
   "source": [
    "Acuracia(clf,dataset,classes)"
   ]
  },
  {
   "cell_type": "code",
   "execution_count": 0,
   "metadata": {
    "colab": {},
    "colab_type": "code",
    "id": "wR_Zxys4MHVo"
   },
   "outputs": [],
   "source": [
    "# Criando um pipeline\n",
    "pip_1 = Pipeline([\n",
    "    ('scaler',StandardScaler()),\n",
    "    ('clf', svm.SVC())\n",
    "])"
   ]
  },
  {
   "cell_type": "code",
   "execution_count": 0,
   "metadata": {
    "colab": {},
    "colab_type": "code",
    "id": "3l9cIDzrMHVp"
   },
   "outputs": [],
   "source": [
    "# Imprimindo Etapas do Pipeline\n",
    "pip_1.steps"
   ]
  },
  {
   "cell_type": "code",
   "execution_count": 0,
   "metadata": {
    "colab": {},
    "colab_type": "code",
    "id": "kitNwmo_MHVr"
   },
   "outputs": [],
   "source": [
    "# Chama a função acuracia passando os dados de musicas e as classes\n",
    "# Usando o pipeline pip_1\n",
    "Acuracia(pip_1,dataset,classes)"
   ]
  },
  {
   "cell_type": "code",
   "execution_count": 0,
   "metadata": {
    "colab": {},
    "colab_type": "code",
    "id": "0r1zhIYtMHVt"
   },
   "outputs": [],
   "source": [
    "# Criando vários Pipelines\n",
    "pip_2 = Pipeline([\n",
    "    ('min_max_scaler', MinMaxScaler()),\n",
    "    ('clf', svm.SVC())\n",
    "])\n",
    "\n",
    "pip_3 = Pipeline([\n",
    "    ('scaler',StandardScaler()),\n",
    "    ('clf', svm.SVC(kernel='rbf'))\n",
    "])\n",
    "\n",
    "pip_4 = Pipeline([\n",
    "    ('scaler',StandardScaler()),\n",
    "    ('clf', svm.SVC(kernel='poly'))\n",
    "])\n",
    "\n",
    "pip_5 = Pipeline([\n",
    "    ('scaler',StandardScaler()),\n",
    "    ('clf', svm.SVC(kernel='linear'))\n",
    "])"
   ]
  },
  {
   "cell_type": "code",
   "execution_count": 0,
   "metadata": {
    "colab": {},
    "colab_type": "code",
    "id": "01UK8v40MHVv"
   },
   "outputs": [],
   "source": [
    "# Chama a função acuracia passando os dados de musicas e as classes\n",
    "# Usando o pipeline pip_2\n",
    "Acuracia(pip_2,dataset,classes)"
   ]
  },
  {
   "cell_type": "markdown",
   "metadata": {
    "colab_type": "text",
    "id": "fEPWD1NNMHVx"
   },
   "source": [
    "# Teste com apenas labelEncoder nos dados"
   ]
  },
  {
   "cell_type": "code",
   "execution_count": 0,
   "metadata": {
    "colab": {},
    "colab_type": "code",
    "id": "ks-LVbY0MHVx"
   },
   "outputs": [],
   "source": [
    "# Teste com apenas LabelEncoder na coluna 'artist' usando o pipeline 'pip_1'\n",
    "Acuracia(pip_1,dataset,classes)"
   ]
  },
  {
   "cell_type": "code",
   "execution_count": 0,
   "metadata": {
    "colab": {},
    "colab_type": "code",
    "id": "EmJA7_1gMHVy"
   },
   "outputs": [],
   "source": [
    "# # Teste com apenas LabelEncoder na coluna 'artist' usando o pipeline 'pip_1'\n",
    "Acuracia(pip_2,dataset,classes)"
   ]
  },
  {
   "cell_type": "markdown",
   "metadata": {
    "colab_type": "text",
    "collapsed": true,
    "id": "eUQ1hIRNMHV0"
   },
   "source": [
    "# Testando o Desempenho dos Kernels"
   ]
  },
  {
   "cell_type": "code",
   "execution_count": 0,
   "metadata": {
    "colab": {},
    "colab_type": "code",
    "id": "Iib5LEs1MHV0"
   },
   "outputs": [],
   "source": [
    "# Testando o Kernel RBF\n",
    "Acuracia(pip_3,dataset,classes)"
   ]
  },
  {
   "cell_type": "code",
   "execution_count": 0,
   "metadata": {
    "colab": {},
    "colab_type": "code",
    "id": "e3WAhIA1MHV1"
   },
   "outputs": [],
   "source": [
    "# Teste de kernel poly\n",
    "Acuracia(pip_4,dataset,classes)"
   ]
  },
  {
   "cell_type": "code",
   "execution_count": 0,
   "metadata": {
    "colab": {},
    "colab_type": "code",
    "id": "CW_NnuyAMHV3"
   },
   "outputs": [],
   "source": [
    "# Teste de Kernel linear\n",
    "Acuracia(pip_5,dataset,classes)"
   ]
  },
  {
   "cell_type": "markdown",
   "metadata": {
    "colab_type": "text",
    "id": "ooCY9ZHAMQO3"
   },
   "source": [
    "## Teste de Overfitting"
   ]
  },
  {
   "cell_type": "code",
   "execution_count": 0,
   "metadata": {
    "colab": {},
    "colab_type": "code",
    "id": "6-ff7KHyMYdU"
   },
   "outputs": [],
   "source": [
    "# Utiliza a função train_test_split para separar conjunto de treino e teste em 80/20\n",
    "from sklearn.model_selection import train_test_split\n",
    "X_train, X_test, y_train, y_test = train_test_split(dataset, classes, test_size=0.2, random_state=123)"
   ]
  },
  {
   "cell_type": "code",
   "execution_count": 0,
   "metadata": {
    "colab": {},
    "colab_type": "code",
    "id": "xk4zXH_fMWO1"
   },
   "outputs": [],
   "source": [
    "# Scala os dados de treino e teste.\n",
    "scaler = StandardScaler().fit(X_train)\n",
    "X_train = scaler.transform(X_train)\n",
    "\n",
    "scaler2 = StandardScaler().fit(X_test)\n",
    "X_test = scaler2.transform(X_test)"
   ]
  },
  {
   "cell_type": "code",
   "execution_count": 0,
   "metadata": {
    "colab": {},
    "colab_type": "code",
    "id": "iViTws-qMc9v"
   },
   "outputs": [],
   "source": [
    "# Treina o algoritmo\n",
    "clf.fit(X_train, y_train)"
   ]
  },
  {
   "cell_type": "code",
   "execution_count": 0,
   "metadata": {
    "colab": {},
    "colab_type": "code",
    "id": "we8prdS5Mc62"
   },
   "outputs": [],
   "source": [
    "# Resultados de predição.\n",
    "y_pred  = clf.predict(X_test)"
   ]
  },
  {
   "cell_type": "code",
   "execution_count": 0,
   "metadata": {
    "colab": {},
    "colab_type": "code",
    "id": "CBZdv6smMcyl"
   },
   "outputs": [],
   "source": [
    "# Imprime a acurácia.\n",
    "metrics.accuracy_score(y_test,y_pred)"
   ]
  },
  {
   "cell_type": "code",
   "execution_count": 0,
   "metadata": {
    "colab": {},
    "colab_type": "code",
    "id": "2770_xAvMcmF"
   },
   "outputs": [],
   "source": [
    "# Testando a classificação com o próprio teste"
   ]
  },
  {
   "cell_type": "code",
   "execution_count": 0,
   "metadata": {
    "colab": {},
    "colab_type": "code",
    "id": "CY-7lYhyMj2X"
   },
   "outputs": [],
   "source": [
    "# Resultados de predição\n",
    "y_pred  = clf.predict(X_train)"
   ]
  },
  {
   "cell_type": "code",
   "execution_count": 0,
   "metadata": {
    "colab": {},
    "colab_type": "code",
    "id": "0xxvTGXNMmy3"
   },
   "outputs": [],
   "source": [
    "# Imprime a Acurácia.\n",
    "metrics.accuracy_score(y_train,y_pred)"
   ]
  },
  {
   "cell_type": "markdown",
   "metadata": {
    "colab_type": "text",
    "id": "h99Sbmi5MHV5"
   },
   "source": [
    "\n",
    "# Tunning"
   ]
  },
  {
   "cell_type": "code",
   "execution_count": 0,
   "metadata": {
    "colab": {},
    "colab_type": "code",
    "id": "rtweUoSeMHV5"
   },
   "outputs": [],
   "source": [
    "# Importa o utilitário GridSearchCV\n",
    "from sklearn.model_selection import GridSearchCV"
   ]
  },
  {
   "cell_type": "code",
   "execution_count": 0,
   "metadata": {
    "colab": {},
    "colab_type": "code",
    "id": "87850wB2MHV9"
   },
   "outputs": [],
   "source": [
    "# Lista de Valores de C\n",
    "lista_C = [0.001, 0.01, 0.1, 1, 10, 100]\n",
    "\n",
    "# Lista de Valores de gamma\n",
    "lista_gamma = [0.001, 0.01, 0.1, 1, 10, 100]"
   ]
  },
  {
   "cell_type": "code",
   "execution_count": 0,
   "metadata": {
    "colab": {},
    "colab_type": "code",
    "id": "NHOPK-iOMHV_"
   },
   "outputs": [],
   "source": [
    "# Define um dicionário que recebe as listas de parâmetros e valores.\n",
    "parametros_grid = dict(clf__C=lista_C, clf__gamma=lista_gamma)"
   ]
  },
  {
   "cell_type": "code",
   "execution_count": 0,
   "metadata": {
    "colab": {},
    "colab_type": "code",
    "id": "3I8ITMPZMHWA"
   },
   "outputs": [],
   "source": [
    "parametros_grid"
   ]
  },
  {
   "cell_type": "code",
   "execution_count": 0,
   "metadata": {
    "colab": {},
    "colab_type": "code",
    "id": "cwkQgN0TMHWB"
   },
   "outputs": [],
   "source": [
    "# Objeto Grid recebe parâmetros de Pipeline, e configurações de cross validation\n",
    "grid = GridSearchCV(pip_3, parametros_grid, cv=10, scoring='accuracy')"
   ]
  },
  {
   "cell_type": "code",
   "execution_count": 0,
   "metadata": {
    "colab": {},
    "colab_type": "code",
    "id": "VbHdGCWJMHWD"
   },
   "outputs": [],
   "source": [
    "# Aplica o gridsearch passando os dados de treino e classes.\n",
    "grid.fit(dataset,classes)"
   ]
  },
  {
   "cell_type": "markdown",
   "metadata": {
    "colab_type": "text",
    "id": "HcA8qRLNMHWG"
   },
   "source": [
    "# Resultados de Grid"
   ]
  },
  {
   "cell_type": "code",
   "execution_count": 0,
   "metadata": {
    "colab": {},
    "colab_type": "code",
    "id": "r6WX6ygwMHWG"
   },
   "outputs": [],
   "source": [
    "# Imprime os scores por combinações\n",
    "grid.grid_scores_"
   ]
  },
  {
   "cell_type": "code",
   "execution_count": 0,
   "metadata": {
    "colab": {},
    "colab_type": "code",
    "id": "XrA6Nj0mMHWI"
   },
   "outputs": [],
   "source": [
    "# Imprime os melhores parâmetros\n",
    "grid.best_params_"
   ]
  },
  {
   "cell_type": "code",
   "execution_count": 0,
   "metadata": {
    "colab": {},
    "colab_type": "code",
    "id": "LqcYa4P9MHWJ"
   },
   "outputs": [],
   "source": [
    "grid.best_score_"
   ]
  }
 ],
 "metadata": {
  "colab": {
   "name": "Machine Learning - SVM-atual.ipynb",
   "provenance": []
  },
  "kernelspec": {
   "display_name": "Python 3",
   "language": "python",
   "name": "python3"
  },
  "language_info": {
   "codemirror_mode": {
    "name": "ipython",
    "version": 3
   },
   "file_extension": ".py",
   "mimetype": "text/x-python",
   "name": "python",
   "nbconvert_exporter": "python",
   "pygments_lexer": "ipython3",
   "version": "3.8.5"
  }
 },
 "nbformat": 4,
 "nbformat_minor": 1
}
