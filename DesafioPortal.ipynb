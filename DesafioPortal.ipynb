{
 "cells": [
  {
   "cell_type": "code",
   "execution_count": 87,
   "metadata": {},
   "outputs": [
    {
     "name": "stdout",
     "output_type": "stream",
     "text": [
      "Requirement already satisfied: pandas-profiling in c:\\users\\rodri\\anaconda3\\lib\\site-packages (2.9.0)\n",
      "Requirement already satisfied: visions[type_image_path]==0.5.0 in c:\\users\\rodri\\anaconda3\\lib\\site-packages (from pandas-profiling) (0.5.0)\n",
      "Requirement already satisfied: requests>=2.23.0 in c:\\users\\rodri\\anaconda3\\lib\\site-packages (from pandas-profiling) (2.24.0)\n",
      "Requirement already satisfied: phik>=0.9.10 in c:\\users\\rodri\\anaconda3\\lib\\site-packages (from pandas-profiling) (0.10.0)\n",
      "Requirement already satisfied: htmlmin>=0.1.12 in c:\\users\\rodri\\anaconda3\\lib\\site-packages (from pandas-profiling) (0.1.12)\n",
      "Requirement already satisfied: seaborn>=0.10.1 in c:\\users\\rodri\\anaconda3\\lib\\site-packages (from pandas-profiling) (0.11.0)\n",
      "Requirement already satisfied: joblib in c:\\users\\rodri\\anaconda3\\lib\\site-packages (from pandas-profiling) (0.17.0)\n",
      "Requirement already satisfied: attrs>=19.3.0 in c:\\users\\rodri\\anaconda3\\lib\\site-packages (from pandas-profiling) (20.3.0)\n",
      "Requirement already satisfied: jinja2>=2.11.1 in c:\\users\\rodri\\anaconda3\\lib\\site-packages (from pandas-profiling) (2.11.2)\n",
      "Requirement already satisfied: matplotlib>=3.2.0 in c:\\users\\rodri\\anaconda3\\lib\\site-packages (from pandas-profiling) (3.3.2)\n",
      "Requirement already satisfied: confuse>=1.0.0 in c:\\users\\rodri\\anaconda3\\lib\\site-packages (from pandas-profiling) (1.4.0)\n",
      "Requirement already satisfied: missingno>=0.4.2 in c:\\users\\rodri\\anaconda3\\lib\\site-packages (from pandas-profiling) (0.4.2)\n",
      "Requirement already satisfied: numpy>=1.16.0 in c:\\users\\rodri\\anaconda3\\lib\\site-packages (from pandas-profiling) (1.19.2)\n",
      "Requirement already satisfied: tangled-up-in-unicode>=0.0.6 in c:\\users\\rodri\\anaconda3\\lib\\site-packages (from pandas-profiling) (0.0.6)\n",
      "Requirement already satisfied: tqdm>=4.43.0 in c:\\users\\rodri\\anaconda3\\lib\\site-packages (from pandas-profiling) (4.50.2)\n",
      "Requirement already satisfied: scipy>=1.4.1 in c:\\users\\rodri\\anaconda3\\lib\\site-packages (from pandas-profiling) (1.5.2)\n",
      "Requirement already satisfied: pandas!=1.0.0,!=1.0.1,!=1.0.2,!=1.1.0,>=0.25.3 in c:\\users\\rodri\\anaconda3\\lib\\site-packages (from pandas-profiling) (1.1.3)\n",
      "Requirement already satisfied: ipywidgets>=7.5.1 in c:\\users\\rodri\\anaconda3\\lib\\site-packages (from pandas-profiling) (7.5.1)\n",
      "Requirement already satisfied: networkx>=2.4 in c:\\users\\rodri\\anaconda3\\lib\\site-packages (from visions[type_image_path]==0.5.0->pandas-profiling) (2.5)\n",
      "Requirement already satisfied: Pillow; extra == \"type_image_path\" in c:\\users\\rodri\\anaconda3\\lib\\site-packages (from visions[type_image_path]==0.5.0->pandas-profiling) (8.0.1)\n",
      "Requirement already satisfied: imagehash; extra == \"type_image_path\" in c:\\users\\rodri\\anaconda3\\lib\\site-packages (from visions[type_image_path]==0.5.0->pandas-profiling) (4.2.0)\n",
      "Requirement already satisfied: idna<3,>=2.5 in c:\\users\\rodri\\anaconda3\\lib\\site-packages (from requests>=2.23.0->pandas-profiling) (2.10)\n",
      "Requirement already satisfied: urllib3!=1.25.0,!=1.25.1,<1.26,>=1.21.1 in c:\\users\\rodri\\anaconda3\\lib\\site-packages (from requests>=2.23.0->pandas-profiling) (1.25.11)\n",
      "Requirement already satisfied: certifi>=2017.4.17 in c:\\users\\rodri\\anaconda3\\lib\\site-packages (from requests>=2.23.0->pandas-profiling) (2020.6.20)\n",
      "Requirement already satisfied: chardet<4,>=3.0.2 in c:\\users\\rodri\\anaconda3\\lib\\site-packages (from requests>=2.23.0->pandas-profiling) (3.0.4)\n",
      "Requirement already satisfied: numba>=0.38.1 in c:\\users\\rodri\\anaconda3\\lib\\site-packages (from phik>=0.9.10->pandas-profiling) (0.51.2)\n",
      "Requirement already satisfied: MarkupSafe>=0.23 in c:\\users\\rodri\\anaconda3\\lib\\site-packages (from jinja2>=2.11.1->pandas-profiling) (1.1.1)\n",
      "Requirement already satisfied: python-dateutil>=2.1 in c:\\users\\rodri\\anaconda3\\lib\\site-packages (from matplotlib>=3.2.0->pandas-profiling) (2.8.1)\n",
      "Requirement already satisfied: kiwisolver>=1.0.1 in c:\\users\\rodri\\anaconda3\\lib\\site-packages (from matplotlib>=3.2.0->pandas-profiling) (1.3.0)\n",
      "Requirement already satisfied: pyparsing!=2.0.4,!=2.1.2,!=2.1.6,>=2.0.3 in c:\\users\\rodri\\anaconda3\\lib\\site-packages (from matplotlib>=3.2.0->pandas-profiling) (2.4.7)\n",
      "Requirement already satisfied: cycler>=0.10 in c:\\users\\rodri\\anaconda3\\lib\\site-packages (from matplotlib>=3.2.0->pandas-profiling) (0.10.0)\n",
      "Requirement already satisfied: pyyaml in c:\\users\\rodri\\anaconda3\\lib\\site-packages (from confuse>=1.0.0->pandas-profiling) (5.3.1)\n",
      "Requirement already satisfied: pytz>=2017.2 in c:\\users\\rodri\\anaconda3\\lib\\site-packages (from pandas!=1.0.0,!=1.0.1,!=1.0.2,!=1.1.0,>=0.25.3->pandas-profiling) (2020.1)\n",
      "Requirement already satisfied: ipykernel>=4.5.1 in c:\\users\\rodri\\anaconda3\\lib\\site-packages (from ipywidgets>=7.5.1->pandas-profiling) (5.3.4)\n",
      "Requirement already satisfied: traitlets>=4.3.1 in c:\\users\\rodri\\anaconda3\\lib\\site-packages (from ipywidgets>=7.5.1->pandas-profiling) (5.0.5)\n",
      "Requirement already satisfied: widgetsnbextension~=3.5.0 in c:\\users\\rodri\\anaconda3\\lib\\site-packages (from ipywidgets>=7.5.1->pandas-profiling) (3.5.1)\n",
      "Requirement already satisfied: ipython>=4.0.0; python_version >= \"3.3\" in c:\\users\\rodri\\anaconda3\\lib\\site-packages (from ipywidgets>=7.5.1->pandas-profiling) (7.19.0)\n",
      "Requirement already satisfied: nbformat>=4.2.0 in c:\\users\\rodri\\anaconda3\\lib\\site-packages (from ipywidgets>=7.5.1->pandas-profiling) (5.0.8)\n",
      "Requirement already satisfied: decorator>=4.3.0 in c:\\users\\rodri\\anaconda3\\lib\\site-packages (from networkx>=2.4->visions[type_image_path]==0.5.0->pandas-profiling) (4.4.2)\n",
      "Requirement already satisfied: PyWavelets in c:\\users\\rodri\\anaconda3\\lib\\site-packages (from imagehash; extra == \"type_image_path\"->visions[type_image_path]==0.5.0->pandas-profiling) (1.1.1)\n",
      "Requirement already satisfied: six in c:\\users\\rodri\\anaconda3\\lib\\site-packages (from imagehash; extra == \"type_image_path\"->visions[type_image_path]==0.5.0->pandas-profiling) (1.15.0)\n",
      "Requirement already satisfied: llvmlite<0.35,>=0.34.0.dev0 in c:\\users\\rodri\\anaconda3\\lib\\site-packages (from numba>=0.38.1->phik>=0.9.10->pandas-profiling) (0.34.0)\n",
      "Requirement already satisfied: setuptools in c:\\users\\rodri\\anaconda3\\lib\\site-packages (from numba>=0.38.1->phik>=0.9.10->pandas-profiling) (50.3.1.post20201107)\n",
      "Requirement already satisfied: jupyter-client in c:\\users\\rodri\\anaconda3\\lib\\site-packages (from ipykernel>=4.5.1->ipywidgets>=7.5.1->pandas-profiling) (6.1.7)\n",
      "Requirement already satisfied: tornado>=4.2 in c:\\users\\rodri\\anaconda3\\lib\\site-packages (from ipykernel>=4.5.1->ipywidgets>=7.5.1->pandas-profiling) (6.0.4)\n",
      "Requirement already satisfied: ipython-genutils in c:\\users\\rodri\\anaconda3\\lib\\site-packages (from traitlets>=4.3.1->ipywidgets>=7.5.1->pandas-profiling) (0.2.0)\n",
      "Requirement already satisfied: notebook>=4.4.1 in c:\\users\\rodri\\anaconda3\\lib\\site-packages (from widgetsnbextension~=3.5.0->ipywidgets>=7.5.1->pandas-profiling) (6.1.4)\n",
      "Requirement already satisfied: backcall in c:\\users\\rodri\\anaconda3\\lib\\site-packages (from ipython>=4.0.0; python_version >= \"3.3\"->ipywidgets>=7.5.1->pandas-profiling) (0.2.0)\n",
      "Requirement already satisfied: jedi>=0.10 in c:\\users\\rodri\\anaconda3\\lib\\site-packages (from ipython>=4.0.0; python_version >= \"3.3\"->ipywidgets>=7.5.1->pandas-profiling) (0.17.1)\n",
      "Requirement already satisfied: pickleshare in c:\\users\\rodri\\anaconda3\\lib\\site-packages (from ipython>=4.0.0; python_version >= \"3.3\"->ipywidgets>=7.5.1->pandas-profiling) (0.7.5)\n",
      "Requirement already satisfied: prompt-toolkit!=3.0.0,!=3.0.1,<3.1.0,>=2.0.0 in c:\\users\\rodri\\anaconda3\\lib\\site-packages (from ipython>=4.0.0; python_version >= \"3.3\"->ipywidgets>=7.5.1->pandas-profiling) (3.0.8)\n",
      "Requirement already satisfied: colorama; sys_platform == \"win32\" in c:\\users\\rodri\\appdata\\roaming\\python\\python38\\site-packages (from ipython>=4.0.0; python_version >= \"3.3\"->ipywidgets>=7.5.1->pandas-profiling) (0.4.3)\n",
      "Requirement already satisfied: pygments in c:\\users\\rodri\\anaconda3\\lib\\site-packages (from ipython>=4.0.0; python_version >= \"3.3\"->ipywidgets>=7.5.1->pandas-profiling) (2.7.2)\n",
      "Requirement already satisfied: jupyter-core in c:\\users\\rodri\\anaconda3\\lib\\site-packages (from nbformat>=4.2.0->ipywidgets>=7.5.1->pandas-profiling) (4.6.3)\n",
      "Requirement already satisfied: jsonschema!=2.5.0,>=2.4 in c:\\users\\rodri\\anaconda3\\lib\\site-packages (from nbformat>=4.2.0->ipywidgets>=7.5.1->pandas-profiling) (3.2.0)\n",
      "Requirement already satisfied: pyzmq>=13 in c:\\users\\rodri\\anaconda3\\lib\\site-packages (from jupyter-client->ipykernel>=4.5.1->ipywidgets>=7.5.1->pandas-profiling) (19.0.2)\n",
      "Requirement already satisfied: nbconvert in c:\\users\\rodri\\anaconda3\\lib\\site-packages (from notebook>=4.4.1->widgetsnbextension~=3.5.0->ipywidgets>=7.5.1->pandas-profiling) (6.0.7)\n",
      "Requirement already satisfied: prometheus-client in c:\\users\\rodri\\anaconda3\\lib\\site-packages (from notebook>=4.4.1->widgetsnbextension~=3.5.0->ipywidgets>=7.5.1->pandas-profiling) (0.8.0)\n",
      "Requirement already satisfied: argon2-cffi in c:\\users\\rodri\\anaconda3\\lib\\site-packages (from notebook>=4.4.1->widgetsnbextension~=3.5.0->ipywidgets>=7.5.1->pandas-profiling) (20.1.0)\n",
      "Requirement already satisfied: terminado>=0.8.3 in c:\\users\\rodri\\anaconda3\\lib\\site-packages (from notebook>=4.4.1->widgetsnbextension~=3.5.0->ipywidgets>=7.5.1->pandas-profiling) (0.9.1)\n",
      "Requirement already satisfied: Send2Trash in c:\\users\\rodri\\anaconda3\\lib\\site-packages (from notebook>=4.4.1->widgetsnbextension~=3.5.0->ipywidgets>=7.5.1->pandas-profiling) (1.5.0)\n",
      "Requirement already satisfied: parso<0.8.0,>=0.7.0 in c:\\users\\rodri\\anaconda3\\lib\\site-packages (from jedi>=0.10->ipython>=4.0.0; python_version >= \"3.3\"->ipywidgets>=7.5.1->pandas-profiling) (0.7.0)\n",
      "Requirement already satisfied: wcwidth in c:\\users\\rodri\\anaconda3\\lib\\site-packages (from prompt-toolkit!=3.0.0,!=3.0.1,<3.1.0,>=2.0.0->ipython>=4.0.0; python_version >= \"3.3\"->ipywidgets>=7.5.1->pandas-profiling) (0.2.5)\n",
      "Requirement already satisfied: pywin32>=1.0; sys_platform == \"win32\" in c:\\users\\rodri\\anaconda3\\lib\\site-packages (from jupyter-core->nbformat>=4.2.0->ipywidgets>=7.5.1->pandas-profiling) (227)\n",
      "Requirement already satisfied: pyrsistent>=0.14.0 in c:\\users\\rodri\\anaconda3\\lib\\site-packages (from jsonschema!=2.5.0,>=2.4->nbformat>=4.2.0->ipywidgets>=7.5.1->pandas-profiling) (0.17.3)\n",
      "Requirement already satisfied: defusedxml in c:\\users\\rodri\\anaconda3\\lib\\site-packages (from nbconvert->notebook>=4.4.1->widgetsnbextension~=3.5.0->ipywidgets>=7.5.1->pandas-profiling) (0.6.0)\n",
      "Requirement already satisfied: entrypoints>=0.2.2 in c:\\users\\rodri\\anaconda3\\lib\\site-packages (from nbconvert->notebook>=4.4.1->widgetsnbextension~=3.5.0->ipywidgets>=7.5.1->pandas-profiling) (0.3)\n",
      "Requirement already satisfied: nbclient<0.6.0,>=0.5.0 in c:\\users\\rodri\\anaconda3\\lib\\site-packages (from nbconvert->notebook>=4.4.1->widgetsnbextension~=3.5.0->ipywidgets>=7.5.1->pandas-profiling) (0.5.1)\n",
      "Requirement already satisfied: mistune<2,>=0.8.1 in c:\\users\\rodri\\anaconda3\\lib\\site-packages (from nbconvert->notebook>=4.4.1->widgetsnbextension~=3.5.0->ipywidgets>=7.5.1->pandas-profiling) (0.8.4)\n",
      "Requirement already satisfied: testpath in c:\\users\\rodri\\anaconda3\\lib\\site-packages (from nbconvert->notebook>=4.4.1->widgetsnbextension~=3.5.0->ipywidgets>=7.5.1->pandas-profiling) (0.4.4)\n",
      "Requirement already satisfied: bleach in c:\\users\\rodri\\anaconda3\\lib\\site-packages (from nbconvert->notebook>=4.4.1->widgetsnbextension~=3.5.0->ipywidgets>=7.5.1->pandas-profiling) (3.2.1)\n",
      "Requirement already satisfied: jupyterlab-pygments in c:\\users\\rodri\\anaconda3\\lib\\site-packages (from nbconvert->notebook>=4.4.1->widgetsnbextension~=3.5.0->ipywidgets>=7.5.1->pandas-profiling) (0.1.2)\n",
      "Requirement already satisfied: pandocfilters>=1.4.1 in c:\\users\\rodri\\anaconda3\\lib\\site-packages (from nbconvert->notebook>=4.4.1->widgetsnbextension~=3.5.0->ipywidgets>=7.5.1->pandas-profiling) (1.4.3)\n",
      "Requirement already satisfied: cffi>=1.0.0 in c:\\users\\rodri\\anaconda3\\lib\\site-packages (from argon2-cffi->notebook>=4.4.1->widgetsnbextension~=3.5.0->ipywidgets>=7.5.1->pandas-profiling) (1.14.3)\n",
      "Requirement already satisfied: pywinpty>=0.5 in c:\\users\\rodri\\anaconda3\\lib\\site-packages (from terminado>=0.8.3->notebook>=4.4.1->widgetsnbextension~=3.5.0->ipywidgets>=7.5.1->pandas-profiling) (0.5.7)\n",
      "Requirement already satisfied: async-generator in c:\\users\\rodri\\anaconda3\\lib\\site-packages (from nbclient<0.6.0,>=0.5.0->nbconvert->notebook>=4.4.1->widgetsnbextension~=3.5.0->ipywidgets>=7.5.1->pandas-profiling) (1.10)\n",
      "Requirement already satisfied: nest-asyncio in c:\\users\\rodri\\anaconda3\\lib\\site-packages (from nbclient<0.6.0,>=0.5.0->nbconvert->notebook>=4.4.1->widgetsnbextension~=3.5.0->ipywidgets>=7.5.1->pandas-profiling) (1.4.2)\n",
      "Requirement already satisfied: webencodings in c:\\users\\rodri\\anaconda3\\lib\\site-packages (from bleach->nbconvert->notebook>=4.4.1->widgetsnbextension~=3.5.0->ipywidgets>=7.5.1->pandas-profiling) (0.5.1)\n",
      "Requirement already satisfied: packaging in c:\\users\\rodri\\anaconda3\\lib\\site-packages (from bleach->nbconvert->notebook>=4.4.1->widgetsnbextension~=3.5.0->ipywidgets>=7.5.1->pandas-profiling) (20.4)\n",
      "Requirement already satisfied: pycparser in c:\\users\\rodri\\anaconda3\\lib\\site-packages (from cffi>=1.0.0->argon2-cffi->notebook>=4.4.1->widgetsnbextension~=3.5.0->ipywidgets>=7.5.1->pandas-profiling) (2.20)\n"
     ]
    }
   ],
   "source": [
    "!pip install pandas-profiling\n",
    "from sklearn.model_selection import cross_val_predict\n",
    "from sklearn import metrics\n",
    "import matplotlib.pyplot as plt\n",
    "import pandas as pd\n",
    "import numpy as np\n",
    "from sklearn import svm\n",
    "import pandas_profiling\n"
   ]
  },
  {
   "cell_type": "code",
   "execution_count": 88,
   "metadata": {},
   "outputs": [],
   "source": [
    "dataset = pd.read_csv('test_data_CANDIDATE.csv', sep=',')"
   ]
  },
  {
   "cell_type": "code",
   "execution_count": 89,
   "metadata": {},
   "outputs": [
    {
     "data": {
      "text/html": [
       "<div>\n",
       "<style scoped>\n",
       "    .dataframe tbody tr th:only-of-type {\n",
       "        vertical-align: middle;\n",
       "    }\n",
       "\n",
       "    .dataframe tbody tr th {\n",
       "        vertical-align: top;\n",
       "    }\n",
       "\n",
       "    .dataframe thead th {\n",
       "        text-align: right;\n",
       "    }\n",
       "</style>\n",
       "<table border=\"1\" class=\"dataframe\">\n",
       "  <thead>\n",
       "    <tr style=\"text-align: right;\">\n",
       "      <th></th>\n",
       "      <th>index</th>\n",
       "      <th>age</th>\n",
       "      <th>sex</th>\n",
       "      <th>cp</th>\n",
       "      <th>trestbps</th>\n",
       "      <th>chol</th>\n",
       "      <th>fbs</th>\n",
       "      <th>restecg</th>\n",
       "      <th>thalach</th>\n",
       "      <th>exang</th>\n",
       "      <th>oldpeak</th>\n",
       "      <th>slope</th>\n",
       "      <th>ca</th>\n",
       "      <th>thal</th>\n",
       "      <th>nar</th>\n",
       "      <th>hc</th>\n",
       "      <th>sk</th>\n",
       "      <th>trf</th>\n",
       "    </tr>\n",
       "  </thead>\n",
       "  <tbody>\n",
       "    <tr>\n",
       "      <th>0</th>\n",
       "      <td>0</td>\n",
       "      <td>49</td>\n",
       "      <td>M</td>\n",
       "      <td>10000</td>\n",
       "      <td>130</td>\n",
       "      <td>269.0</td>\n",
       "      <td>0</td>\n",
       "      <td>1</td>\n",
       "      <td>163</td>\n",
       "      <td>0</td>\n",
       "      <td>0.0</td>\n",
       "      <td>2.0</td>\n",
       "      <td>0</td>\n",
       "      <td>2</td>\n",
       "      <td>2</td>\n",
       "      <td>0</td>\n",
       "      <td>1</td>\n",
       "      <td>6797.761892</td>\n",
       "    </tr>\n",
       "    <tr>\n",
       "      <th>1</th>\n",
       "      <td>1</td>\n",
       "      <td>61</td>\n",
       "      <td>F</td>\n",
       "      <td>10000</td>\n",
       "      <td>138</td>\n",
       "      <td>166.0</td>\n",
       "      <td>0</td>\n",
       "      <td>0</td>\n",
       "      <td>125</td>\n",
       "      <td>1</td>\n",
       "      <td>3.6</td>\n",
       "      <td>NaN</td>\n",
       "      <td>1</td>\n",
       "      <td>2</td>\n",
       "      <td>2</td>\n",
       "      <td>1</td>\n",
       "      <td>3</td>\n",
       "      <td>4307.686943</td>\n",
       "    </tr>\n",
       "    <tr>\n",
       "      <th>2</th>\n",
       "      <td>2</td>\n",
       "      <td>46</td>\n",
       "      <td>F</td>\n",
       "      <td>10000</td>\n",
       "      <td>140</td>\n",
       "      <td>311.0</td>\n",
       "      <td>0</td>\n",
       "      <td>1</td>\n",
       "      <td>120</td>\n",
       "      <td>1</td>\n",
       "      <td>1.8</td>\n",
       "      <td>NaN</td>\n",
       "      <td>2</td>\n",
       "      <td>3</td>\n",
       "      <td>2</td>\n",
       "      <td>0</td>\n",
       "      <td>1</td>\n",
       "      <td>4118.077502</td>\n",
       "    </tr>\n",
       "    <tr>\n",
       "      <th>3</th>\n",
       "      <td>3</td>\n",
       "      <td>69</td>\n",
       "      <td>F</td>\n",
       "      <td>10000</td>\n",
       "      <td>140</td>\n",
       "      <td>254.0</td>\n",
       "      <td>0</td>\n",
       "      <td>0</td>\n",
       "      <td>146</td>\n",
       "      <td>0</td>\n",
       "      <td>2.0</td>\n",
       "      <td>1.0</td>\n",
       "      <td>3</td>\n",
       "      <td>3</td>\n",
       "      <td>2</td>\n",
       "      <td>1</td>\n",
       "      <td>0</td>\n",
       "      <td>7170.849469</td>\n",
       "    </tr>\n",
       "    <tr>\n",
       "      <th>4</th>\n",
       "      <td>4</td>\n",
       "      <td>51</td>\n",
       "      <td>F</td>\n",
       "      <td>10000</td>\n",
       "      <td>100</td>\n",
       "      <td>222.0</td>\n",
       "      <td>0</td>\n",
       "      <td>1</td>\n",
       "      <td>143</td>\n",
       "      <td>1</td>\n",
       "      <td>1.2</td>\n",
       "      <td>1.0</td>\n",
       "      <td>0</td>\n",
       "      <td>2</td>\n",
       "      <td>2</td>\n",
       "      <td>1</td>\n",
       "      <td>0</td>\n",
       "      <td>5579.040145</td>\n",
       "    </tr>\n",
       "  </tbody>\n",
       "</table>\n",
       "</div>"
      ],
      "text/plain": [
       "   index  age sex     cp  trestbps   chol  fbs  restecg  thalach  exang  \\\n",
       "0      0   49   M  10000       130  269.0    0        1      163      0   \n",
       "1      1   61   F  10000       138  166.0    0        0      125      1   \n",
       "2      2   46   F  10000       140  311.0    0        1      120      1   \n",
       "3      3   69   F  10000       140  254.0    0        0      146      0   \n",
       "4      4   51   F  10000       100  222.0    0        1      143      1   \n",
       "\n",
       "   oldpeak  slope  ca  thal  nar  hc  sk          trf  \n",
       "0      0.0    2.0   0     2    2   0   1  6797.761892  \n",
       "1      3.6    NaN   1     2    2   1   3  4307.686943  \n",
       "2      1.8    NaN   2     3    2   0   1  4118.077502  \n",
       "3      2.0    1.0   3     3    2   1   0  7170.849469  \n",
       "4      1.2    1.0   0     2    2   1   0  5579.040145  "
      ]
     },
     "execution_count": 89,
     "metadata": {},
     "output_type": "execute_result"
    }
   ],
   "source": [
    "dataset.head()"
   ]
  },
  {
   "cell_type": "code",
   "execution_count": null,
   "metadata": {},
   "outputs": [],
   "source": [
    "pandas_profiling.ProfileReport(dataset)"
   ]
  },
  {
   "cell_type": "code",
   "execution_count": 4,
   "metadata": {},
   "outputs": [],
   "source": [
    "# Análise de Dados"
   ]
  },
  {
   "cell_type": "code",
   "execution_count": 90,
   "metadata": {},
   "outputs": [
    {
     "data": {
      "text/plain": [
       "index         0\n",
       "age           0\n",
       "sex           0\n",
       "cp            0\n",
       "trestbps      0\n",
       "chol         16\n",
       "fbs           0\n",
       "restecg       0\n",
       "thalach       0\n",
       "exang         0\n",
       "oldpeak       0\n",
       "slope       143\n",
       "ca            0\n",
       "thal          0\n",
       "nar           0\n",
       "hc            0\n",
       "sk            0\n",
       "trf           0\n",
       "dtype: int64"
      ]
     },
     "execution_count": 90,
     "metadata": {},
     "output_type": "execute_result"
    }
   ],
   "source": [
    "#Checando valores Missing\n",
    "dataset.isnull().sum()"
   ]
  },
  {
   "cell_type": "code",
   "execution_count": 91,
   "metadata": {},
   "outputs": [],
   "source": [
    "#Delete missing values\n",
    "dataset.dropna(inplace=True)"
   ]
  },
  {
   "cell_type": "code",
   "execution_count": 92,
   "metadata": {},
   "outputs": [],
   "source": [
    "def remove_features(lista_features):\n",
    "    for i in lista_features:\n",
    "        dataset.drop(i, axis=1, inplace=True)\n",
    "    return 0"
   ]
  },
  {
   "cell_type": "code",
   "execution_count": 93,
   "metadata": {},
   "outputs": [
    {
     "data": {
      "text/plain": [
       "0"
      ]
     },
     "execution_count": 93,
     "metadata": {},
     "output_type": "execute_result"
    }
   ],
   "source": [
    "# Remove features\n",
    "remove_features(['index'])"
   ]
  },
  {
   "cell_type": "code",
   "execution_count": 67,
   "metadata": {},
   "outputs": [
    {
     "data": {
      "text/html": [
       "<div>\n",
       "<style scoped>\n",
       "    .dataframe tbody tr th:only-of-type {\n",
       "        vertical-align: middle;\n",
       "    }\n",
       "\n",
       "    .dataframe tbody tr th {\n",
       "        vertical-align: top;\n",
       "    }\n",
       "\n",
       "    .dataframe thead th {\n",
       "        text-align: right;\n",
       "    }\n",
       "</style>\n",
       "<table border=\"1\" class=\"dataframe\">\n",
       "  <thead>\n",
       "    <tr style=\"text-align: right;\">\n",
       "      <th></th>\n",
       "      <th>age</th>\n",
       "      <th>cp</th>\n",
       "      <th>trestbps</th>\n",
       "      <th>chol</th>\n",
       "      <th>fbs</th>\n",
       "      <th>restecg</th>\n",
       "      <th>thalach</th>\n",
       "      <th>exang</th>\n",
       "      <th>oldpeak</th>\n",
       "      <th>slope</th>\n",
       "      <th>ca</th>\n",
       "      <th>thal</th>\n",
       "      <th>nar</th>\n",
       "      <th>hc</th>\n",
       "      <th>sk</th>\n",
       "      <th>trf</th>\n",
       "    </tr>\n",
       "  </thead>\n",
       "  <tbody>\n",
       "    <tr>\n",
       "      <th>count</th>\n",
       "      <td>134.000000</td>\n",
       "      <td>134.0</td>\n",
       "      <td>134.000000</td>\n",
       "      <td>134.000000</td>\n",
       "      <td>134.000000</td>\n",
       "      <td>134.000000</td>\n",
       "      <td>134.000000</td>\n",
       "      <td>134.000000</td>\n",
       "      <td>134.000000</td>\n",
       "      <td>134.00000</td>\n",
       "      <td>134.000000</td>\n",
       "      <td>134.000000</td>\n",
       "      <td>134.000000</td>\n",
       "      <td>134.000000</td>\n",
       "      <td>134.000000</td>\n",
       "      <td>134.000000</td>\n",
       "    </tr>\n",
       "    <tr>\n",
       "      <th>mean</th>\n",
       "      <td>54.940299</td>\n",
       "      <td>10000.0</td>\n",
       "      <td>131.350746</td>\n",
       "      <td>245.619403</td>\n",
       "      <td>0.119403</td>\n",
       "      <td>0.529851</td>\n",
       "      <td>152.582090</td>\n",
       "      <td>0.320896</td>\n",
       "      <td>1.041791</td>\n",
       "      <td>1.38806</td>\n",
       "      <td>0.746269</td>\n",
       "      <td>2.246269</td>\n",
       "      <td>1.985075</td>\n",
       "      <td>0.544776</td>\n",
       "      <td>0.895522</td>\n",
       "      <td>4194.472537</td>\n",
       "    </tr>\n",
       "    <tr>\n",
       "      <th>std</th>\n",
       "      <td>9.047711</td>\n",
       "      <td>0.0</td>\n",
       "      <td>17.922665</td>\n",
       "      <td>54.012501</td>\n",
       "      <td>0.325479</td>\n",
       "      <td>0.530148</td>\n",
       "      <td>21.757826</td>\n",
       "      <td>0.468572</td>\n",
       "      <td>1.216386</td>\n",
       "      <td>0.59963</td>\n",
       "      <td>1.052648</td>\n",
       "      <td>0.580855</td>\n",
       "      <td>0.172774</td>\n",
       "      <td>0.632642</td>\n",
       "      <td>1.005763</td>\n",
       "      <td>2011.002774</td>\n",
       "    </tr>\n",
       "    <tr>\n",
       "      <th>min</th>\n",
       "      <td>29.000000</td>\n",
       "      <td>10000.0</td>\n",
       "      <td>94.000000</td>\n",
       "      <td>131.000000</td>\n",
       "      <td>0.000000</td>\n",
       "      <td>0.000000</td>\n",
       "      <td>88.000000</td>\n",
       "      <td>0.000000</td>\n",
       "      <td>0.000000</td>\n",
       "      <td>0.00000</td>\n",
       "      <td>0.000000</td>\n",
       "      <td>1.000000</td>\n",
       "      <td>0.000000</td>\n",
       "      <td>0.000000</td>\n",
       "      <td>0.000000</td>\n",
       "      <td>671.002436</td>\n",
       "    </tr>\n",
       "    <tr>\n",
       "      <th>25%</th>\n",
       "      <td>49.250000</td>\n",
       "      <td>10000.0</td>\n",
       "      <td>120.000000</td>\n",
       "      <td>210.250000</td>\n",
       "      <td>0.000000</td>\n",
       "      <td>0.000000</td>\n",
       "      <td>141.250000</td>\n",
       "      <td>0.000000</td>\n",
       "      <td>0.000000</td>\n",
       "      <td>1.00000</td>\n",
       "      <td>0.000000</td>\n",
       "      <td>2.000000</td>\n",
       "      <td>2.000000</td>\n",
       "      <td>0.000000</td>\n",
       "      <td>0.000000</td>\n",
       "      <td>2648.931025</td>\n",
       "    </tr>\n",
       "    <tr>\n",
       "      <th>50%</th>\n",
       "      <td>57.000000</td>\n",
       "      <td>10000.0</td>\n",
       "      <td>130.000000</td>\n",
       "      <td>236.000000</td>\n",
       "      <td>0.000000</td>\n",
       "      <td>1.000000</td>\n",
       "      <td>155.000000</td>\n",
       "      <td>0.000000</td>\n",
       "      <td>0.650000</td>\n",
       "      <td>1.00000</td>\n",
       "      <td>0.000000</td>\n",
       "      <td>2.000000</td>\n",
       "      <td>2.000000</td>\n",
       "      <td>0.000000</td>\n",
       "      <td>1.000000</td>\n",
       "      <td>4275.587478</td>\n",
       "    </tr>\n",
       "    <tr>\n",
       "      <th>75%</th>\n",
       "      <td>61.750000</td>\n",
       "      <td>10000.0</td>\n",
       "      <td>140.000000</td>\n",
       "      <td>269.000000</td>\n",
       "      <td>0.000000</td>\n",
       "      <td>1.000000</td>\n",
       "      <td>168.000000</td>\n",
       "      <td>1.000000</td>\n",
       "      <td>1.600000</td>\n",
       "      <td>2.00000</td>\n",
       "      <td>1.000000</td>\n",
       "      <td>3.000000</td>\n",
       "      <td>2.000000</td>\n",
       "      <td>1.000000</td>\n",
       "      <td>2.000000</td>\n",
       "      <td>5875.965903</td>\n",
       "    </tr>\n",
       "    <tr>\n",
       "      <th>max</th>\n",
       "      <td>77.000000</td>\n",
       "      <td>10000.0</td>\n",
       "      <td>180.000000</td>\n",
       "      <td>564.000000</td>\n",
       "      <td>1.000000</td>\n",
       "      <td>2.000000</td>\n",
       "      <td>202.000000</td>\n",
       "      <td>1.000000</td>\n",
       "      <td>6.200000</td>\n",
       "      <td>2.00000</td>\n",
       "      <td>4.000000</td>\n",
       "      <td>3.000000</td>\n",
       "      <td>2.000000</td>\n",
       "      <td>2.000000</td>\n",
       "      <td>3.000000</td>\n",
       "      <td>7389.481550</td>\n",
       "    </tr>\n",
       "  </tbody>\n",
       "</table>\n",
       "</div>"
      ],
      "text/plain": [
       "              age       cp    trestbps        chol         fbs     restecg  \\\n",
       "count  134.000000    134.0  134.000000  134.000000  134.000000  134.000000   \n",
       "mean    54.940299  10000.0  131.350746  245.619403    0.119403    0.529851   \n",
       "std      9.047711      0.0   17.922665   54.012501    0.325479    0.530148   \n",
       "min     29.000000  10000.0   94.000000  131.000000    0.000000    0.000000   \n",
       "25%     49.250000  10000.0  120.000000  210.250000    0.000000    0.000000   \n",
       "50%     57.000000  10000.0  130.000000  236.000000    0.000000    1.000000   \n",
       "75%     61.750000  10000.0  140.000000  269.000000    0.000000    1.000000   \n",
       "max     77.000000  10000.0  180.000000  564.000000    1.000000    2.000000   \n",
       "\n",
       "          thalach       exang     oldpeak      slope          ca        thal  \\\n",
       "count  134.000000  134.000000  134.000000  134.00000  134.000000  134.000000   \n",
       "mean   152.582090    0.320896    1.041791    1.38806    0.746269    2.246269   \n",
       "std     21.757826    0.468572    1.216386    0.59963    1.052648    0.580855   \n",
       "min     88.000000    0.000000    0.000000    0.00000    0.000000    1.000000   \n",
       "25%    141.250000    0.000000    0.000000    1.00000    0.000000    2.000000   \n",
       "50%    155.000000    0.000000    0.650000    1.00000    0.000000    2.000000   \n",
       "75%    168.000000    1.000000    1.600000    2.00000    1.000000    3.000000   \n",
       "max    202.000000    1.000000    6.200000    2.00000    4.000000    3.000000   \n",
       "\n",
       "              nar          hc          sk          trf  \n",
       "count  134.000000  134.000000  134.000000   134.000000  \n",
       "mean     1.985075    0.544776    0.895522  4194.472537  \n",
       "std      0.172774    0.632642    1.005763  2011.002774  \n",
       "min      0.000000    0.000000    0.000000   671.002436  \n",
       "25%      2.000000    0.000000    0.000000  2648.931025  \n",
       "50%      2.000000    0.000000    1.000000  4275.587478  \n",
       "75%      2.000000    1.000000    2.000000  5875.965903  \n",
       "max      2.000000    2.000000    3.000000  7389.481550  "
      ]
     },
     "execution_count": 67,
     "metadata": {},
     "output_type": "execute_result"
    }
   ],
   "source": [
    "# Resumo Estatístico da base\n",
    "# Somente dados numéricos\n",
    "dataset.describe()"
   ]
  },
  {
   "cell_type": "code",
   "execution_count": null,
   "metadata": {},
   "outputs": [],
   "source": []
  },
  {
   "cell_type": "code",
   "execution_count": 7,
   "metadata": {},
   "outputs": [],
   "source": [
    "# Separa a classe dos dados"
   ]
  },
  {
   "cell_type": "code",
   "execution_count": 94,
   "metadata": {},
   "outputs": [],
   "source": [
    "classes = dataset['sex']\n",
    "dataset.drop('sex', axis=1, inplace=True)"
   ]
  },
  {
   "cell_type": "code",
   "execution_count": 95,
   "metadata": {},
   "outputs": [
    {
     "data": {
      "text/html": [
       "<div>\n",
       "<style scoped>\n",
       "    .dataframe tbody tr th:only-of-type {\n",
       "        vertical-align: middle;\n",
       "    }\n",
       "\n",
       "    .dataframe tbody tr th {\n",
       "        vertical-align: top;\n",
       "    }\n",
       "\n",
       "    .dataframe thead th {\n",
       "        text-align: right;\n",
       "    }\n",
       "</style>\n",
       "<table border=\"1\" class=\"dataframe\">\n",
       "  <thead>\n",
       "    <tr style=\"text-align: right;\">\n",
       "      <th></th>\n",
       "      <th>age</th>\n",
       "      <th>cp</th>\n",
       "      <th>trestbps</th>\n",
       "      <th>chol</th>\n",
       "      <th>fbs</th>\n",
       "      <th>restecg</th>\n",
       "      <th>thalach</th>\n",
       "      <th>exang</th>\n",
       "      <th>oldpeak</th>\n",
       "      <th>slope</th>\n",
       "      <th>ca</th>\n",
       "      <th>thal</th>\n",
       "      <th>nar</th>\n",
       "      <th>hc</th>\n",
       "      <th>sk</th>\n",
       "      <th>trf</th>\n",
       "    </tr>\n",
       "  </thead>\n",
       "  <tbody>\n",
       "    <tr>\n",
       "      <th>0</th>\n",
       "      <td>49</td>\n",
       "      <td>10000</td>\n",
       "      <td>130</td>\n",
       "      <td>269.0</td>\n",
       "      <td>0</td>\n",
       "      <td>1</td>\n",
       "      <td>163</td>\n",
       "      <td>0</td>\n",
       "      <td>0.0</td>\n",
       "      <td>2.0</td>\n",
       "      <td>0</td>\n",
       "      <td>2</td>\n",
       "      <td>2</td>\n",
       "      <td>0</td>\n",
       "      <td>1</td>\n",
       "      <td>6797.761892</td>\n",
       "    </tr>\n",
       "    <tr>\n",
       "      <th>3</th>\n",
       "      <td>69</td>\n",
       "      <td>10000</td>\n",
       "      <td>140</td>\n",
       "      <td>254.0</td>\n",
       "      <td>0</td>\n",
       "      <td>0</td>\n",
       "      <td>146</td>\n",
       "      <td>0</td>\n",
       "      <td>2.0</td>\n",
       "      <td>1.0</td>\n",
       "      <td>3</td>\n",
       "      <td>3</td>\n",
       "      <td>2</td>\n",
       "      <td>1</td>\n",
       "      <td>0</td>\n",
       "      <td>7170.849469</td>\n",
       "    </tr>\n",
       "    <tr>\n",
       "      <th>4</th>\n",
       "      <td>51</td>\n",
       "      <td>10000</td>\n",
       "      <td>100</td>\n",
       "      <td>222.0</td>\n",
       "      <td>0</td>\n",
       "      <td>1</td>\n",
       "      <td>143</td>\n",
       "      <td>1</td>\n",
       "      <td>1.2</td>\n",
       "      <td>1.0</td>\n",
       "      <td>0</td>\n",
       "      <td>2</td>\n",
       "      <td>2</td>\n",
       "      <td>1</td>\n",
       "      <td>0</td>\n",
       "      <td>5579.040145</td>\n",
       "    </tr>\n",
       "    <tr>\n",
       "      <th>5</th>\n",
       "      <td>51</td>\n",
       "      <td>10000</td>\n",
       "      <td>140</td>\n",
       "      <td>299.0</td>\n",
       "      <td>0</td>\n",
       "      <td>1</td>\n",
       "      <td>173</td>\n",
       "      <td>1</td>\n",
       "      <td>1.6</td>\n",
       "      <td>2.0</td>\n",
       "      <td>0</td>\n",
       "      <td>3</td>\n",
       "      <td>2</td>\n",
       "      <td>0</td>\n",
       "      <td>0</td>\n",
       "      <td>3267.628751</td>\n",
       "    </tr>\n",
       "    <tr>\n",
       "      <th>6</th>\n",
       "      <td>58</td>\n",
       "      <td>10000</td>\n",
       "      <td>120</td>\n",
       "      <td>284.0</td>\n",
       "      <td>0</td>\n",
       "      <td>0</td>\n",
       "      <td>160</td>\n",
       "      <td>0</td>\n",
       "      <td>1.8</td>\n",
       "      <td>1.0</td>\n",
       "      <td>0</td>\n",
       "      <td>2</td>\n",
       "      <td>2</td>\n",
       "      <td>0</td>\n",
       "      <td>0</td>\n",
       "      <td>6556.847684</td>\n",
       "    </tr>\n",
       "  </tbody>\n",
       "</table>\n",
       "</div>"
      ],
      "text/plain": [
       "   age     cp  trestbps   chol  fbs  restecg  thalach  exang  oldpeak  slope  \\\n",
       "0   49  10000       130  269.0    0        1      163      0      0.0    2.0   \n",
       "3   69  10000       140  254.0    0        0      146      0      2.0    1.0   \n",
       "4   51  10000       100  222.0    0        1      143      1      1.2    1.0   \n",
       "5   51  10000       140  299.0    0        1      173      1      1.6    2.0   \n",
       "6   58  10000       120  284.0    0        0      160      0      1.8    1.0   \n",
       "\n",
       "   ca  thal  nar  hc  sk          trf  \n",
       "0   0     2    2   0   1  6797.761892  \n",
       "3   3     3    2   1   0  7170.849469  \n",
       "4   0     2    2   1   0  5579.040145  \n",
       "5   0     3    2   0   0  3267.628751  \n",
       "6   0     2    2   0   0  6556.847684  "
      ]
     },
     "execution_count": 95,
     "metadata": {},
     "output_type": "execute_result"
    }
   ],
   "source": [
    "dataset.head()"
   ]
  },
  {
   "cell_type": "code",
   "execution_count": 70,
   "metadata": {},
   "outputs": [
    {
     "name": "stdout",
     "output_type": "stream",
     "text": [
      "<class 'pandas.core.frame.DataFrame'>\n",
      "Int64Index: 134 entries, 0 to 286\n",
      "Data columns (total 16 columns):\n",
      " #   Column    Non-Null Count  Dtype  \n",
      "---  ------    --------------  -----  \n",
      " 0   age       134 non-null    int64  \n",
      " 1   cp        134 non-null    int64  \n",
      " 2   trestbps  134 non-null    int64  \n",
      " 3   chol      134 non-null    float64\n",
      " 4   fbs       134 non-null    int64  \n",
      " 5   restecg   134 non-null    int64  \n",
      " 6   thalach   134 non-null    int64  \n",
      " 7   exang     134 non-null    int64  \n",
      " 8   oldpeak   134 non-null    float64\n",
      " 9   slope     134 non-null    float64\n",
      " 10  ca        134 non-null    int64  \n",
      " 11  thal      134 non-null    int64  \n",
      " 12  nar       134 non-null    int64  \n",
      " 13  hc        134 non-null    int64  \n",
      " 14  sk        134 non-null    int64  \n",
      " 15  trf       134 non-null    float64\n",
      "dtypes: float64(4), int64(12)\n",
      "memory usage: 17.8 KB\n"
     ]
    }
   ],
   "source": [
    "dataset.info()"
   ]
  },
  {
   "cell_type": "code",
   "execution_count": 39,
   "metadata": {},
   "outputs": [],
   "source": [
    "# Pipeline"
   ]
  },
  {
   "cell_type": "code",
   "execution_count": 40,
   "metadata": {},
   "outputs": [],
   "source": [
    "# Importe as bibliotecas de Pipelines e Pré-processadores\n",
    "from sklearn.pipeline import Pipeline\n",
    "from sklearn.preprocessing import StandardScaler\n",
    "from sklearn.preprocessing import MinMaxScaler"
   ]
  },
  {
   "cell_type": "code",
   "execution_count": 71,
   "metadata": {},
   "outputs": [],
   "source": [
    "# Treinando o algoritmo de SVM.\n",
    "clf = svm.SVC().fit(dataset,classes)"
   ]
  },
  {
   "cell_type": "code",
   "execution_count": 72,
   "metadata": {},
   "outputs": [
    {
     "data": {
      "text/plain": [
       "SVC()"
      ]
     },
     "execution_count": 72,
     "metadata": {},
     "output_type": "execute_result"
    }
   ],
   "source": [
    "clf"
   ]
  },
  {
   "cell_type": "code",
   "execution_count": 73,
   "metadata": {},
   "outputs": [],
   "source": [
    "# Função que retorna a acurácia após fazer um validação cruzada (cross validation)\n",
    "def Acuracia(clf,X,y):\n",
    "    resultados = cross_val_predict(clf, X, y, cv=10)\n",
    "    return metrics.accuracy_score(y,resultados)"
   ]
  },
  {
   "cell_type": "code",
   "execution_count": 74,
   "metadata": {},
   "outputs": [
    {
     "name": "stderr",
     "output_type": "stream",
     "text": [
      "C:\\Users\\rodri\\anaconda3\\lib\\site-packages\\sklearn\\model_selection\\_split.py:670: UserWarning: The least populated class in y has only 1 members, which is less than n_splits=10.\n",
      "  warnings.warn((\"The least populated class in y has only %d\"\n"
     ]
    },
    {
     "data": {
      "text/plain": [
       "0.664179104477612"
      ]
     },
     "execution_count": 74,
     "metadata": {},
     "output_type": "execute_result"
    }
   ],
   "source": [
    "Acuracia(clf,dataset,classes)"
   ]
  },
  {
   "cell_type": "code",
   "execution_count": 75,
   "metadata": {},
   "outputs": [],
   "source": [
    "# Criando um pipeline\n",
    "pip_1 = Pipeline([\n",
    "    ('scaler',StandardScaler()),\n",
    "    ('clf', svm.SVC())\n",
    "])"
   ]
  },
  {
   "cell_type": "code",
   "execution_count": 76,
   "metadata": {},
   "outputs": [
    {
     "name": "stderr",
     "output_type": "stream",
     "text": [
      "C:\\Users\\rodri\\anaconda3\\lib\\site-packages\\sklearn\\model_selection\\_split.py:670: UserWarning: The least populated class in y has only 1 members, which is less than n_splits=10.\n",
      "  warnings.warn((\"The least populated class in y has only %d\"\n"
     ]
    },
    {
     "data": {
      "text/plain": [
       "0.6865671641791045"
      ]
     },
     "execution_count": 76,
     "metadata": {},
     "output_type": "execute_result"
    }
   ],
   "source": [
    "# Chama a função acuracia passando os dados de musicas e as classes\n",
    "# Usando o pipeline pip_1\n",
    "Acuracia(pip_1,dataset,classes)"
   ]
  },
  {
   "cell_type": "code",
   "execution_count": 77,
   "metadata": {},
   "outputs": [],
   "source": [
    "# Criando vários Pipelines\n",
    "pip_2 = Pipeline([\n",
    "    ('min_max_scaler', MinMaxScaler()),\n",
    "    ('clf', svm.SVC())\n",
    "])\n",
    "\n",
    "pip_3 = Pipeline([\n",
    "    ('scaler',StandardScaler()),\n",
    "    ('clf', svm.SVC(kernel='rbf'))\n",
    "])\n",
    "\n",
    "pip_4 = Pipeline([\n",
    "    ('scaler',StandardScaler()),\n",
    "    ('clf', svm.SVC(kernel='poly'))\n",
    "])\n",
    "\n",
    "pip_5 = Pipeline([\n",
    "    ('scaler',StandardScaler()),\n",
    "    ('clf', svm.SVC(kernel='linear'))\n",
    "])"
   ]
  },
  {
   "cell_type": "code",
   "execution_count": 78,
   "metadata": {},
   "outputs": [
    {
     "name": "stderr",
     "output_type": "stream",
     "text": [
      "C:\\Users\\rodri\\anaconda3\\lib\\site-packages\\sklearn\\model_selection\\_split.py:670: UserWarning: The least populated class in y has only 1 members, which is less than n_splits=10.\n",
      "  warnings.warn((\"The least populated class in y has only %d\"\n"
     ]
    },
    {
     "data": {
      "text/plain": [
       "0.6791044776119403"
      ]
     },
     "execution_count": 78,
     "metadata": {},
     "output_type": "execute_result"
    }
   ],
   "source": [
    "# Chama a função acuracia passando os dados de musicas e as classes\n",
    "# Usando o pipeline pip_2\n",
    "Acuracia(pip_2,dataset,classes)"
   ]
  },
  {
   "cell_type": "code",
   "execution_count": 79,
   "metadata": {},
   "outputs": [
    {
     "name": "stderr",
     "output_type": "stream",
     "text": [
      "C:\\Users\\rodri\\anaconda3\\lib\\site-packages\\sklearn\\model_selection\\_split.py:670: UserWarning: The least populated class in y has only 1 members, which is less than n_splits=10.\n",
      "  warnings.warn((\"The least populated class in y has only %d\"\n"
     ]
    },
    {
     "data": {
      "text/plain": [
       "0.6865671641791045"
      ]
     },
     "execution_count": 79,
     "metadata": {},
     "output_type": "execute_result"
    }
   ],
   "source": [
    "# Testando o Kernel RBF\n",
    "Acuracia(pip_3,dataset,classes)"
   ]
  },
  {
   "cell_type": "code",
   "execution_count": 80,
   "metadata": {},
   "outputs": [
    {
     "name": "stderr",
     "output_type": "stream",
     "text": [
      "C:\\Users\\rodri\\anaconda3\\lib\\site-packages\\sklearn\\model_selection\\_split.py:670: UserWarning: The least populated class in y has only 1 members, which is less than n_splits=10.\n",
      "  warnings.warn((\"The least populated class in y has only %d\"\n"
     ]
    },
    {
     "data": {
      "text/plain": [
       "0.6940298507462687"
      ]
     },
     "execution_count": 80,
     "metadata": {},
     "output_type": "execute_result"
    }
   ],
   "source": [
    "# Teste de kernel poly\n",
    "Acuracia(pip_4,dataset,classes)"
   ]
  },
  {
   "cell_type": "code",
   "execution_count": 81,
   "metadata": {},
   "outputs": [
    {
     "name": "stderr",
     "output_type": "stream",
     "text": [
      "C:\\Users\\rodri\\anaconda3\\lib\\site-packages\\sklearn\\model_selection\\_split.py:670: UserWarning: The least populated class in y has only 1 members, which is less than n_splits=10.\n",
      "  warnings.warn((\"The least populated class in y has only %d\"\n"
     ]
    },
    {
     "data": {
      "text/plain": [
       "0.7089552238805971"
      ]
     },
     "execution_count": 81,
     "metadata": {},
     "output_type": "execute_result"
    }
   ],
   "source": [
    "# Teste de Kernel linear\n",
    "Acuracia(pip_5,dataset,classes)"
   ]
  },
  {
   "cell_type": "code",
   "execution_count": 96,
   "metadata": {},
   "outputs": [],
   "source": [
    "# Utiliza a função train_test_split para separar conjunto de treino e teste em 80/20\n",
    "from sklearn.model_selection import train_test_split\n",
    "X_train, X_test, y_train, y_test = train_test_split(dataset, classes, test_size=0.2, random_state=123)"
   ]
  },
  {
   "cell_type": "code",
   "execution_count": 97,
   "metadata": {},
   "outputs": [],
   "source": [
    "# Scala os dados de treino e teste.\n",
    "scaler = StandardScaler().fit(X_train)\n",
    "X_train = scaler.transform(X_train)\n",
    "\n",
    "scaler2 = StandardScaler().fit(X_test)\n",
    "X_test = scaler2.transform(X_test)"
   ]
  },
  {
   "cell_type": "code",
   "execution_count": 98,
   "metadata": {},
   "outputs": [
    {
     "data": {
      "text/plain": [
       "SVC()"
      ]
     },
     "execution_count": 98,
     "metadata": {},
     "output_type": "execute_result"
    }
   ],
   "source": [
    "# Treina o algoritmo\n",
    "clf.fit(X_train, y_train)"
   ]
  },
  {
   "cell_type": "code",
   "execution_count": 99,
   "metadata": {},
   "outputs": [],
   "source": [
    "# Resultados de predição.\n",
    "y_pred  = clf.predict(X_test)"
   ]
  },
  {
   "cell_type": "code",
   "execution_count": 100,
   "metadata": {},
   "outputs": [
    {
     "data": {
      "text/plain": [
       "array(['M', 'M', 'F', 'F', 'F', 'F', 'F', 'F', 'M', 'M', 'F', 'F', 'F',\n",
       "       'F', 'F', 'F', 'F', 'F', 'F', 'F', 'F', 'F', 'F', 'F', 'F', 'F',\n",
       "       'M'], dtype=object)"
      ]
     },
     "execution_count": 100,
     "metadata": {},
     "output_type": "execute_result"
    }
   ],
   "source": [
    "y_pred"
   ]
  },
  {
   "cell_type": "code",
   "execution_count": 63,
   "metadata": {},
   "outputs": [],
   "source": [
    "df = pd.DataFrame({'sex':clf.predict(X_test)})\n",
    "                   \n",
    "                   \n"
   ]
  },
  {
   "cell_type": "code",
   "execution_count": 64,
   "metadata": {},
   "outputs": [],
   "source": [
    "df.to_csv('newsample_PREDICTIONS_MARCOSGRANADO.CSV', sep=',', index=False)"
   ]
  },
  {
   "cell_type": "code",
   "execution_count": 101,
   "metadata": {},
   "outputs": [
    {
     "data": {
      "text/plain": [
       "Pipeline(steps=[('scaler', StandardScaler()), ('clf', SVC(kernel='linear'))])"
      ]
     },
     "execution_count": 101,
     "metadata": {},
     "output_type": "execute_result"
    }
   ],
   "source": [
    "pip_5"
   ]
  },
  {
   "cell_type": "code",
   "execution_count": 102,
   "metadata": {},
   "outputs": [
    {
     "data": {
      "text/plain": [
       "array([[ 0.48585254,  0.        , -0.86859506,  0.91831051, -0.19611614,\n",
       "        -0.89442719,  0.31238375, -0.70710678,  0.40181181, -0.61237244,\n",
       "        -0.77204865, -0.76696499,  0.19611614, -0.70710678, -1.12844529,\n",
       "         0.87074915],\n",
       "       [ 0.59164301,  0.        ,  1.71565471,  0.69530297, -0.19611614,\n",
       "        -0.89442719, -1.18610682, -0.70710678, -0.89143679,  1.22474487,\n",
       "        -0.77204865, -0.76696499,  0.19611614, -0.70710678, -0.25793035,\n",
       "        -1.20377134],\n",
       "       [ 0.90901442,  0.        ,  1.71565471, -1.51449903, -0.19611614,\n",
       "        -0.89442719, -0.32982649, -0.70710678,  3.56308615, -2.44948974,\n",
       "         2.0704941 ,  1.30384048,  0.19611614,  1.83847763,  1.48309952,\n",
       "        -0.38009408],\n",
       "       [ 0.48585254,  0.        , -1.38544502, -0.17645378, -0.19611614,\n",
       "        -0.89442719,  0.52645383, -0.70710678,  0.90474182, -0.61237244,\n",
       "         0.1754656 ,  1.30384048,  0.19611614,  1.83847763, -0.25793035,\n",
       "         0.82715306],\n",
       "       [-0.57205218,  0.        , -0.61017009,  0.33038154,  5.09901951,\n",
       "         1.11803399,  0.95459399, -0.70710678, -0.89143679,  1.22474487,\n",
       "         1.12297985, -0.76696499,  0.19611614,  0.56568542,  1.48309952,\n",
       "        -2.04859834],\n",
       "       [-1.31258548,  0.        , -0.22253262, -0.70356251, -0.19611614,\n",
       "        -0.89442719,  0.82615194, -0.70710678,  0.11442323,  1.22474487,\n",
       "        -0.77204865, -0.76696499,  0.19611614, -0.70710678, -0.25793035,\n",
       "         0.68437687],\n",
       "       [-2.58207115,  0.        , -0.22253262, -0.70356251, -0.19611614,\n",
       "        -0.89442719,  2.11057243, -0.70710678, -0.89143679,  1.22474487,\n",
       "        -0.77204865, -0.76696499,  0.19611614, -0.70710678,  0.61258459,\n",
       "        -0.28925316],\n",
       "       [-0.46626171,  0.        , -0.22253262,  0.61420932, -0.19611614,\n",
       "         1.11803399,  0.4408258 , -0.70710678, -0.89143679,  1.22474487,\n",
       "        -0.77204865, -0.76696499,  0.19611614, -0.70710678, -0.25793035,\n",
       "         0.99353011],\n",
       "       [-0.78363312,  0.        ,  0.29431734,  0.08710059, -0.19611614,\n",
       "        -0.89442719, -0.03012838,  1.41421356, -0.89143679, -0.61237244,\n",
       "        -0.77204865, -0.76696499,  0.19611614,  0.56568542,  0.61258459,\n",
       "        -1.20836376],\n",
       "       [ 0.90901442,  0.        ,  1.06959227,  0.107374  , -0.19611614,\n",
       "         1.11803399,  0.05549965,  1.41421356,  0.11442323, -0.61237244,\n",
       "        -0.77204865, -0.76696499,  0.19611614,  0.56568542,  0.61258459,\n",
       "         0.96041082],\n",
       "       [-1.31258548,  0.        , -0.22253262, -0.50082838, -0.19611614,\n",
       "        -0.89442719,  0.65489588, -0.70710678,  0.54550609, -0.61237244,\n",
       "        -0.77204865, -0.76696499,  0.19611614, -0.70710678, -1.12844529,\n",
       "        -0.18195533],\n",
       "       [-0.14889029,  0.        , -0.54556384, -0.54137521, -0.19611614,\n",
       "         1.11803399,  0.65489588, -0.70710678, -0.17296535,  1.22474487,\n",
       "         1.12297985,  1.30384048,  0.19611614,  0.56568542, -0.25793035,\n",
       "         0.84689412],\n",
       "       [ 0.59164301,  0.        ,  2.36171716,  0.99940417, -0.19611614,\n",
       "        -0.89442719,  0.26956973, -0.70710678, -0.7477425 , -0.61237244,\n",
       "        -0.77204865,  1.30384048,  0.19611614, -0.70710678,  1.48309952,\n",
       "         1.26815368],\n",
       "       [-0.99521407,  0.        , -0.86859506, -0.37918791, -0.19611614,\n",
       "         1.11803399,  0.74052391, -0.70710678, -0.89143679,  1.22474487,\n",
       "        -0.77204865, -0.76696499,  0.19611614,  1.83847763,  1.48309952,\n",
       "        -0.18217591],\n",
       "       [ 0.59164301,  0.        ,  0.42352982, -1.25094466, -0.19611614,\n",
       "         1.11803399,  0.39801178,  1.41421356, -0.89143679,  1.22474487,\n",
       "         0.1754656 ,  1.30384048,  0.19611614, -0.70710678, -0.25793035,\n",
       "         0.64826788],\n",
       "       [ 1.12059537,  0.        , -1.51465751, -0.56164862, -0.19611614,\n",
       "        -0.89442719, -0.37264051,  1.41421356,  0.40181181, -0.61237244,\n",
       "        -0.77204865, -0.76696499,  0.19611614, -0.70710678,  0.61258459,\n",
       "        -0.51075658],\n",
       "       [-2.05311879,  0.        , -0.99780755, -0.58192204, -0.19611614,\n",
       "         1.11803399,  1.68243226, -0.70710678, -0.38850678,  1.22474487,\n",
       "        -0.77204865, -0.76696499,  0.19611614,  1.83847763, -1.12844529,\n",
       "         0.76515301],\n",
       "       [-0.25468077,  0.        ,  0.42352982,  1.20213829, -0.19611614,\n",
       "         1.11803399, -1.31454887,  1.41421356,  2.12614327, -0.61237244,\n",
       "         2.0704941 ,  1.30384048,  0.19611614, -0.70710678,  0.61258459,\n",
       "         0.8954706 ],\n",
       "       [ 0.38006207,  0.        , -0.22253262, -2.18352165, -0.19611614,\n",
       "         1.11803399, -1.61424698,  1.41421356, -0.02927106, -0.61237244,\n",
       "         0.1754656 ,  1.30384048,  0.19611614,  1.83847763, -1.12844529,\n",
       "         0.68341497],\n",
       "       [ 1.43796678,  0.        ,  1.71565471,  0.95885734, -0.19611614,\n",
       "        -0.89442719, -1.91394509,  1.41421356,  0.18627037, -0.61237244,\n",
       "         2.0704941 , -0.76696499,  0.19611614, -0.70710678, -1.12844529,\n",
       "         0.66109514],\n",
       "       [ 0.90901442,  0.        , -0.22253262,  0.49256885, -0.19611614,\n",
       "         1.11803399, -2.38489927, -0.70710678, -0.02927106, -0.61237244,\n",
       "         0.1754656 ,  1.30384048, -5.09901951, -0.70710678, -1.12844529,\n",
       "        -2.05476372],\n",
       "       [ 0.59164301,  0.        ,  0.03589236, -0.70356251, -0.19611614,\n",
       "         1.11803399,  0.39801178, -0.70710678, -0.31665964,  1.22474487,\n",
       "         1.12297985, -0.76696499,  0.19611614, -0.70710678, -0.25793035,\n",
       "        -0.39903858],\n",
       "       [ 0.80322395,  0.        ,  0.03589236, -0.09536013, -0.19611614,\n",
       "         1.11803399, -0.32982649, -0.70710678,  0.97658896, -0.61237244,\n",
       "         1.12297985, -0.76696499,  0.19611614, -0.70710678,  1.48309952,\n",
       "         1.29185739],\n",
       "       [ 0.59164301,  0.        , -1.51465751,  0.00600694, -0.19611614,\n",
       "        -0.89442719, -0.45826854,  1.41421356, -0.02927106, -0.61237244,\n",
       "         0.1754656 ,  1.30384048,  0.19611614, -0.70710678,  1.48309952,\n",
       "        -0.3034285 ],\n",
       "       [ 0.06269065,  0.        , -0.86859506,  0.39120178, -0.19611614,\n",
       "        -0.89442719, -0.24419846, -0.70710678, -0.60404821, -0.61237244,\n",
       "        -0.77204865,  1.30384048,  0.19611614, -0.70710678, -1.12844529,\n",
       "        -2.04025269],\n",
       "       [-0.8894236 ,  0.        ,  0.29431734, -0.0548133 , -0.19611614,\n",
       "        -0.89442719, -0.03012838,  1.41421356, -0.7477425 , -0.61237244,\n",
       "        -0.77204865, -0.76696499,  0.19611614,  0.56568542, -1.12844529,\n",
       "        -0.29955585],\n",
       "       [ 0.90901442,  0.        ,  0.42352982,  3.14838593, -0.19611614,\n",
       "        -0.89442719,  0.1839417 , -0.70710678, -0.02927106, -0.61237244,\n",
       "        -0.77204865, -0.76696499,  0.19611614, -0.70710678, -1.12844529,\n",
       "        -0.29451895]])"
      ]
     },
     "execution_count": 102,
     "metadata": {},
     "output_type": "execute_result"
    }
   ],
   "source": [
    "X_test"
   ]
  },
  {
   "cell_type": "code",
   "execution_count": null,
   "metadata": {},
   "outputs": [],
   "source": []
  }
 ],
 "metadata": {
  "kernelspec": {
   "display_name": "Python 3",
   "language": "python",
   "name": "python3"
  },
  "language_info": {
   "codemirror_mode": {
    "name": "ipython",
    "version": 3
   },
   "file_extension": ".py",
   "mimetype": "text/x-python",
   "name": "python",
   "nbconvert_exporter": "python",
   "pygments_lexer": "ipython3",
   "version": "3.8.5"
  }
 },
 "nbformat": 4,
 "nbformat_minor": 4
}
